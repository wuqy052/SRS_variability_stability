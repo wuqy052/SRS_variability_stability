{
 "cells": [
  {
   "cell_type": "markdown",
   "metadata": {
    "colab_type": "text",
    "id": "view-in-github"
   },
   "source": [
    "<a href=\"https://colab.research.google.com/github/wuqy052/SRS_variability_stability/blob/main/code/Main_analysis_SRS_Variability_Stability.ipynb\" target=\"_parent\"><img src=\"https://colab.research.google.com/assets/colab-badge.svg\" alt=\"Open In Colab\"/></a>"
   ]
  },
  {
   "cell_type": "markdown",
   "metadata": {
    "id": "00uMaPxcvFI2"
   },
   "source": [
    "<font size=\"4\"> Main analysis script for **Variability and stability of autistic traits in the general population: a systematic comparison between online and in-lab samples** </font>\n",
    "\n",
    "<font size=\"3\">By Caroline Charpentier and Qianying Wu </font>"
   ]
  },
  {
   "cell_type": "code",
   "execution_count": 1,
   "metadata": {
    "id": "HDIwn5kGvQ2n",
    "jp-MarkdownHeadingCollapsed": true,
    "tags": []
   },
   "outputs": [],
   "source": [
    "# load packages\n",
    "import os\n",
    "import numpy as np\n",
    "import pandas as pd\n",
    "import matplotlib.pyplot as plt\n",
    "import seaborn as sns\n",
    "import statsmodels.api as sm\n",
    "from scipy.stats import pearsonr, ttest_ind, zscore, ttest_rel, norm, chi2_contingency\n",
    "import statsmodels.formula.api as smf\n",
    "from datetime import datetime"
   ]
  },
  {
   "cell_type": "markdown",
   "metadata": {
    "id": "WuSlfgkZXyVg"
   },
   "source": [
    "# Load data\n",
    "\n"
   ]
  },
  {
   "cell_type": "code",
   "execution_count": 2,
   "metadata": {},
   "outputs": [],
   "source": [
    "# set path to be the path of the github repo 'SRS_variability_stability'\n",
    "root = os.path.dirname(os.getcwd())"
   ]
  },
  {
   "cell_type": "code",
   "execution_count": 3,
   "metadata": {
    "id": "Z7nyXyaEYzzB"
   },
   "outputs": [],
   "source": [
    "# load full cross-sectional dataset\n",
    "data_merged_nodupl = pd.read_csv(root + '/data/cross_sectional_full.csv',index_col = 0)\n",
    "\n",
    "# load data quality check summary\n",
    "data_careless = pd.read_csv(root + '/results/careless_responses_summary.csv', index_col = 0)\n",
    "\n",
    "# make exclusions\n",
    "data_merged_nodupl_excl = pd.merge(data_merged_nodupl, data_careless.loc[:,['ID','Exclude']],\n",
    "                                   on=['ID'],\n",
    "                                   how='left')\n",
    "data_merged_nodupl_excl = data_merged_nodupl_excl.drop(data_merged_nodupl_excl[data_merged_nodupl_excl['Exclude']==1].index)"
   ]
  },
  {
   "cell_type": "code",
   "execution_count": 4,
   "metadata": {
    "colab": {
     "base_uri": "https://localhost:8080/",
     "height": 513
    },
    "id": "FyoL0kyWYqz3",
    "outputId": "f6be21c8-d41e-4afc-befc-2f2c73638698"
   },
   "outputs": [],
   "source": [
    "# load SRS item description file\n",
    "SRS_item_description = pd.read_csv(root + '/data/SRS_item_description.csv')"
   ]
  },
  {
   "cell_type": "code",
   "execution_count": 5,
   "metadata": {
    "id": "ihrLUUtx0tnh"
   },
   "outputs": [],
   "source": [
    "# load test-retest dataset\n",
    "t_rt_cutoff = pd.read_csv(root + '/data/test_retest_excl.csv')\n",
    "# load ICC\n",
    "ICC_all = pd.read_csv(root + '/results/ICC_both.csv')"
   ]
  },
  {
   "cell_type": "markdown",
   "metadata": {
    "id": "XY9ACvb8bUF5"
   },
   "source": [
    "# Variability in SRS scores"
   ]
  },
  {
   "cell_type": "markdown",
   "metadata": {
    "id": "bJVz-9WWbL2X"
   },
   "source": [
    "## Summary of variables\n",
    "Print the descriptive stats for demographic and questionnaire variables, for online and in-lab samples, respectively. Also perform statistal tests."
   ]
  },
  {
   "cell_type": "code",
   "execution_count": 6,
   "metadata": {
    "id": "fiiJHkpnGZGd"
   },
   "outputs": [],
   "source": [
    "#function to calculate effect size\n",
    "def cohen_d(sample1, sample2):\n",
    "    \"\"\"\n",
    "    Calculate Cohen's d for two independent samples, as well as degrees of freedom for unequal variances (Welch's t-test).\n",
    "\n",
    "    Parameters:\n",
    "    sample1 (array-like): First sample data.\n",
    "    sample2 (array-like): Second sample data.\n",
    "\n",
    "    Returns:\n",
    "    float: Cohen's d value.\n",
    "    \"\"\"\n",
    "    # Convert inputs to numpy arrays\n",
    "    sample1 = np.array(sample1)\n",
    "    sample2 = np.array(sample2)\n",
    "\n",
    "    # Calculate the means and standard deviations\n",
    "    mean1, mean2 = np.mean(sample1), np.mean(sample2)\n",
    "    std1, std2 = np.std(sample1, ddof=1), np.std(sample2, ddof=1)\n",
    "\n",
    "    # Calculate the pooled standard deviation\n",
    "    n1, n2 = len(sample1), len(sample2)\n",
    "    pooled_std = np.sqrt(((n1 - 1) * std1**2 + (n2 - 1) * std2**2) / (n1 + n2 - 2))\n",
    "\n",
    "    # Calculate Cohen's d\n",
    "    cohens_d = (mean1 - mean2) / pooled_std\n",
    "\n",
    "    # Calculate df\n",
    "    df_unequal = ((std1**2 / n1) + (std2**2 / n2))**2 / \\\n",
    "             (((std1**2 / n1)**2 / (n1 - 1)) + ((std2**2 / n2)**2 / (n2 - 1)))\n",
    "\n",
    "    return cohens_d, df_unequal"
   ]
  },
  {
   "cell_type": "code",
   "execution_count": 7,
   "metadata": {
    "id": "OW5TOywEe0oi"
   },
   "outputs": [],
   "source": [
    "def summary_var(var):\n",
    "  sample_lab = data_merged_nodupl_excl[data_merged_nodupl_excl['format']=='In lab'][var].dropna()\n",
    "  sample_online = data_merged_nodupl_excl[data_merged_nodupl_excl['format']=='Online'][var].dropna()\n",
    "  ttest_result = ttest_ind(sample_lab, sample_online, equal_var=False)\n",
    "  d, dfu = cohen_d(sample_lab, sample_online)\n",
    "  print(\"Online, mean\", var, \"=\", np.mean(np.mean(sample_online)), \", SD =\", np.std(sample_online), \", missing =\", np.sum(sample_online.isna()))\n",
    "  print(\"In-lab, mean\", var, \"=\", np.mean(sample_lab), \", SD =\", np.std(sample_lab), \", missing =\", np.sum(sample_lab.isna()))\n",
    "  print(\"==========================\")\n",
    "  print(f\"T-statistic (unequal variances): {ttest_result.statistic}\")\n",
    "  print(f\"df (Welch's t-test): {ttest_result.df}\")\n",
    "  print(f\"P-value (unequal variances): {ttest_result.pvalue}\")\n",
    "  print(f\"Effect size Cohen's d (unequal variances): {d}\")\n",
    "  print('In lab N =', sample_lab.count())\n",
    "  print('Online N =', sample_online.count())\n",
    "  print(ttest_result.confidence_interval(confidence_level=0.95))"
   ]
  },
  {
   "cell_type": "markdown",
   "metadata": {
    "id": "KAAg3fL8bPUZ"
   },
   "source": [
    "Gender"
   ]
  },
  {
   "cell_type": "code",
   "execution_count": 8,
   "metadata": {
    "colab": {
     "base_uri": "https://localhost:8080/"
    },
    "id": "9HaCJicZ2NEI",
    "outputId": "67df7e20-fdc4-4601-9379-1623e2867049"
   },
   "outputs": [
    {
     "name": "stdout",
     "output_type": "stream",
     "text": [
      "Gender_recode     M  NB     W\n",
      "format                       \n",
      "In lab          146  15   266\n",
      "Online         1037  38  1246\n",
      "Chi-Square statistic: 20.652593701986667\n",
      "P-value: 3.2760178476509896e-05\n",
      "Degrees of freedom: 2\n",
      "Expected frequencies:\n",
      "[[ 183.8213246     8.23544396  234.94323144]\n",
      " [ 999.1786754    44.76455604 1277.05676856]]\n"
     ]
    }
   ],
   "source": [
    "#chi-square test for gender by format\n",
    "contingency_table = pd.crosstab(data_merged_nodupl_excl['format'], data_merged_nodupl_excl['Gender_recode'])\n",
    "chi2, p, dof, expected = chi2_contingency(contingency_table)\n",
    "print(contingency_table)\n",
    "print(f\"Chi-Square statistic: {chi2}\")\n",
    "print(f\"P-value: {p}\")\n",
    "print(f\"Degrees of freedom: {dof}\")\n",
    "print(\"Expected frequencies:\")\n",
    "print(expected)"
   ]
  },
  {
   "cell_type": "markdown",
   "metadata": {
    "id": "yRu9en4hbQrH"
   },
   "source": [
    "Age"
   ]
  },
  {
   "cell_type": "code",
   "execution_count": 9,
   "metadata": {
    "colab": {
     "base_uri": "https://localhost:8080/"
    },
    "id": "nvoEX3H5bOz6",
    "outputId": "5767a8a8-92f3-447c-98cc-e9f21e004c33"
   },
   "outputs": [
    {
     "name": "stdout",
     "output_type": "stream",
     "text": [
      "Online, mean age = 34.67444876783398 , SD = 12.054026312143316 , missing = 0\n",
      "In-lab, mean age = 32.1260162601626 , SD = 11.872817470967988 , missing = 0\n",
      "==========================\n",
      "T-statistic (unequal variances): -4.307999464377649\n",
      "df (Welch's t-test): 722.141118432351\n",
      "P-value (unequal variances): 1.8754854612596863e-05\n",
      "Effect size Cohen's d (unequal variances): -0.21189740987465225\n",
      "In lab N = 492\n",
      "Online N = 2313\n",
      "ConfidenceInterval(low=-3.7098118248119514, high=-1.387053190530806)\n"
     ]
    }
   ],
   "source": [
    "summary_var('age')"
   ]
  },
  {
   "cell_type": "markdown",
   "metadata": {
    "id": "0UUkgLjebSB1"
   },
   "source": [
    "SRS total raw score"
   ]
  },
  {
   "cell_type": "code",
   "execution_count": 10,
   "metadata": {
    "colab": {
     "base_uri": "https://localhost:8080/"
    },
    "id": "VSyPO6W_elUk",
    "outputId": "02f8195f-8375-4fc5-8341-7f62145b8e74"
   },
   "outputs": [
    {
     "name": "stdout",
     "output_type": "stream",
     "text": [
      "Online, mean SRS = 62.575471698113205 , SD = 30.425990098779888 , missing = 0\n",
      "In-lab, mean SRS = 43.78947368421053 , SD = 24.62036060668391 , missing = 0\n",
      "==========================\n",
      "T-statistic (unequal variances): -14.72933246872359\n",
      "df (Welch's t-test): 844.285222795297\n",
      "P-value (unequal variances): 7.120505089888031e-44\n",
      "Effect size Cohen's d (unequal variances): -0.6367246549283859\n",
      "In lab N = 494\n",
      "Online N = 2332\n",
      "ConfidenceInterval(low=-21.289352387298532, high=-16.282643640506823)\n"
     ]
    }
   ],
   "source": [
    "summary_var('SRS')"
   ]
  },
  {
   "cell_type": "markdown",
   "metadata": {
    "id": "qd9qY3gdbUxo"
   },
   "source": [
    "STAI-T total score"
   ]
  },
  {
   "cell_type": "code",
   "execution_count": 11,
   "metadata": {
    "colab": {
     "base_uri": "https://localhost:8080/"
    },
    "id": "ClzKh-itd7jb",
    "outputId": "692747d6-729b-4ed8-f339-adb0ed73dd33"
   },
   "outputs": [
    {
     "name": "stdout",
     "output_type": "stream",
     "text": [
      "Online, mean STAI_trait = 44.98134991119005 , SD = 12.565515991739586 , missing = 0\n",
      "In-lab, mean STAI_trait = 41.64926931106472 , SD = 11.887000780949853 , missing = 0\n",
      "==========================\n",
      "T-statistic (unequal variances): -5.509630256093684\n",
      "df (Welch's t-test): 723.1110982812479\n",
      "P-value (unequal variances): 5.0028997282489346e-08\n",
      "Effect size Cohen's d (unequal variances): -0.26755652913186345\n",
      "In lab N = 479\n",
      "Online N = 2252\n",
      "ConfidenceInterval(low=-4.5194029883799285, high=-2.144758211870732)\n"
     ]
    }
   ],
   "source": [
    "summary_var('STAI_trait')"
   ]
  },
  {
   "cell_type": "markdown",
   "metadata": {
    "id": "W1QyDkV-bXeA"
   },
   "source": [
    "LSAS total score"
   ]
  },
  {
   "cell_type": "code",
   "execution_count": 32,
   "metadata": {
    "colab": {
     "base_uri": "https://localhost:8080/"
    },
    "id": "eEC0HTEHfehZ",
    "outputId": "8e500a0e-f5e9-4d8b-9879-13b5c7d1dc23"
   },
   "outputs": [
    {
     "name": "stdout",
     "output_type": "stream",
     "text": [
      "Online, mean LSAS = 57.60556383507203 , SD = 29.778189921067817 , missing = 0\n",
      "In-lab, mean LSAS = 38.091684434968016 , SD = 27.120243093224662 , missing = 0\n",
      "==========================\n",
      "T-statistic (unequal variances): -13.75608129455258\n",
      "df (Welch's t-test): 753.505182763219\n",
      "P-value (unequal variances): 1.4138317393067778e-38\n",
      "Effect size Cohen's d (unequal variances): -0.6658609438775239\n",
      "In lab N = 469\n",
      "Online N = 2013\n",
      "ConfidenceInterval(low=np.float64(-22.29868656680473), high=np.float64(-16.729072233403304))\n"
     ]
    }
   ],
   "source": [
    "summary_var('LSAS')"
   ]
  },
  {
   "cell_type": "markdown",
   "metadata": {
    "id": "TfFJf6osbZzO"
   },
   "source": [
    "BDI total score"
   ]
  },
  {
   "cell_type": "code",
   "execution_count": 33,
   "metadata": {
    "colab": {
     "base_uri": "https://localhost:8080/"
    },
    "id": "7i3Xvn-TfgGn",
    "outputId": "22cf6540-e273-445f-d0eb-2bb08473c424"
   },
   "outputs": [
    {
     "name": "stdout",
     "output_type": "stream",
     "text": [
      "Online, mean BDI = 13.802397868561279 , SD = 11.805917681248141 , missing = 0\n",
      "In-lab, mean BDI = 9.588726513569938 , SD = 9.680919736147557 , missing = 0\n",
      "==========================\n",
      "T-statistic (unequal variances): -8.295876211578902\n",
      "df (Welch's t-test): 810.4183203565566\n",
      "P-value (unequal variances): 4.476251020935409e-16\n",
      "Effect size Cohen's d (unequal variances): -0.3674948972263856\n",
      "In lab N = 479\n",
      "Online N = 2252\n",
      "ConfidenceInterval(low=np.float64(-5.210672316835732), high=np.float64(-3.2166703931469507))\n"
     ]
    }
   ],
   "source": [
    "summary_var('BDI')"
   ]
  },
  {
   "cell_type": "markdown",
   "metadata": {
    "id": "pXfHW9zWbjf0"
   },
   "source": [
    "Date of data collection"
   ]
  },
  {
   "cell_type": "code",
   "execution_count": 34,
   "metadata": {
    "colab": {
     "base_uri": "https://localhost:8080/",
     "height": 272
    },
    "id": "Lcfglp7YxYOs",
    "outputId": "a184513a-caea-4a30-c8b1-fb72effb5df5"
   },
   "outputs": [
    {
     "data": {
      "text/plain": [
       "year\n",
       "2020    1024\n",
       "2022     567\n",
       "2021     473\n",
       "2023     190\n",
       "2024      78\n",
       "Name: count, dtype: int64"
      ]
     },
     "execution_count": 34,
     "metadata": {},
     "output_type": "execute_result"
    }
   ],
   "source": [
    "data_merged_nodupl_excl['date'] = pd.to_datetime(data_merged_nodupl_excl['date'], errors='coerce')\n",
    "data_merged_nodupl_excl['year'] = data_merged_nodupl_excl['date'].dt.year\n",
    "data_merged_nodupl_excl[data_merged_nodupl_excl['format']=='Online']['year'].value_counts()"
   ]
  },
  {
   "cell_type": "code",
   "execution_count": 35,
   "metadata": {
    "colab": {
     "base_uri": "https://localhost:8080/",
     "height": 366
    },
    "id": "lNzo1RXKxcA1",
    "outputId": "3a97c0dd-c80a-4058-e800-d8a1108cd8df"
   },
   "outputs": [
    {
     "data": {
      "text/plain": [
       "year\n",
       "2021    196\n",
       "2022    137\n",
       "2023    113\n",
       "2020     31\n",
       "2015     10\n",
       "2019      5\n",
       "2014      1\n",
       "2018      1\n",
       "Name: count, dtype: int64"
      ]
     },
     "execution_count": 35,
     "metadata": {},
     "output_type": "execute_result"
    }
   ],
   "source": [
    "data_merged_nodupl_excl[data_merged_nodupl_excl['format']=='In lab']['year'].value_counts()"
   ]
  },
  {
   "cell_type": "code",
   "execution_count": 36,
   "metadata": {
    "colab": {
     "base_uri": "https://localhost:8080/"
    },
    "id": "THeWKVhY4d8o",
    "outputId": "cd29531b-5222-482b-d997-fa62af7758de"
   },
   "outputs": [
    {
     "name": "stdout",
     "output_type": "stream",
     "text": [
      "year_group  2020-2021  <2020  >2021\n",
      "format                             \n",
      "In lab             31     17    250\n",
      "Online           1024      0    835\n",
      "Chi-Square statistic: 288.4437404142886\n",
      "P-value: 2.3186628261617667e-63\n",
      "Degrees of freedom: 2\n",
      "Expected frequencies:\n",
      "[[145.75336115   2.34863236 149.89800649]\n",
      " [909.24663885  14.65136764 935.10199351]]\n"
     ]
    }
   ],
   "source": [
    "#chi-square test for year by format\n",
    "data_merged_nodupl_excl.loc[data_merged_nodupl_excl['year'] < 2020, ['year_group']] = '<2020'\n",
    "data_merged_nodupl_excl.loc[(data_merged_nodupl_excl['year'] == 2020) | (data_merged_nodupl_excl['year_group'] == 2021), ['year_group']] = '2020-2021'\n",
    "data_merged_nodupl_excl.loc[data_merged_nodupl_excl['year'] > 2021, ['year_group']] = '>2021'\n",
    "contingency_table = pd.crosstab(data_merged_nodupl_excl['format'], data_merged_nodupl_excl['year_group'])\n",
    "chi2, p, dof, expected = chi2_contingency(contingency_table)\n",
    "print(contingency_table)\n",
    "print(f\"Chi-Square statistic: {chi2}\")\n",
    "print(f\"P-value: {p}\")\n",
    "print(f\"Degrees of freedom: {dof}\")\n",
    "print(\"Expected frequencies:\")\n",
    "print(expected)"
   ]
  },
  {
   "cell_type": "markdown",
   "metadata": {
    "id": "-UADRAnjCft7"
   },
   "source": [
    "## Online vs. In-lab SRS score differences"
   ]
  },
  {
   "cell_type": "markdown",
   "metadata": {
    "id": "v9lC4NT-grLf"
   },
   "source": [
    "### Overall score difference"
   ]
  },
  {
   "cell_type": "code",
   "execution_count": 37,
   "metadata": {
    "colab": {
     "base_uri": "https://localhost:8080/",
     "height": 437
    },
    "id": "w-DX4P0nQnxf",
    "outputId": "20af328e-57d6-4483-ef18-818f35173fb2"
   },
   "outputs": [
    {
     "data": {
      "text/plain": [
       "Text(0.5, 1.0, 'After careless exclusions, N=2826')"
      ]
     },
     "execution_count": 37,
     "metadata": {},
     "output_type": "execute_result"
    },
    {
     "data": {
      "image/png": "[encoded data removed]",
      "text/plain": [
       "<Figure size 500x400 with 1 Axes>"
      ]
     },
     "metadata": {},
     "output_type": "display_data"
    }
   ],
   "source": [
    "#plot distributions for the two groups\n",
    "fig,ax = plt.subplots(figsize=(5,4))\n",
    "sns.violinplot(data=data_merged_nodupl_excl, x=\"format\", y=\"SRS\", hue=\"format\",ax=ax)\n",
    "plt.axhline(y=69, color='purple', linestyle='--')\n",
    "plt.axhline(y=114, color='red', linestyle='--')\n",
    "ax.tick_params(axis='x', labelsize=18)\n",
    "ax.tick_params(axis='y', labelsize=12)\n",
    "ax.set_ylabel('SRS',fontsize=18)\n",
    "ax.set_xlabel(' ')\n",
    "ax.set_title('After careless exclusions, N=' + str(len(data_merged_nodupl_excl)))"
   ]
  },
  {
   "cell_type": "code",
   "execution_count": 38,
   "metadata": {
    "colab": {
     "base_uri": "https://localhost:8080/"
    },
    "id": "hx1q0dMUQuQj",
    "outputId": "79dda3c7-8bf4-4fbc-c2ea-77d959ac3fd6"
   },
   "outputs": [
    {
     "name": "stdout",
     "output_type": "stream",
     "text": [
      "Online, mean SRS = 62.575471698113205 , SD = 30.425990098779888 , missing = 0\n",
      "In-lab, mean SRS = 43.78947368421053 , SD = 24.620360606683928 , missing = 0\n",
      "==========================\n",
      "T-statistic (unequal variances): -14.72933246872359\n",
      "df (Welch's t-test): 844.285222795297\n",
      "P-value (unequal variances): 7.120505089888031e-44\n",
      "Effect size Cohen's d (unequal variances): -0.6367246549283859\n",
      "In lab N = 494\n",
      "Online N = 2332\n",
      "ConfidenceInterval(low=np.float64(-21.289352387298532), high=np.float64(-16.282643640506823))\n"
     ]
    }
   ],
   "source": [
    "#run t-test for independent samples, assuming unequal variance\n",
    "summary_var('SRS')"
   ]
  },
  {
   "cell_type": "markdown",
   "metadata": {
    "id": "6naGCQiBN1XK"
   },
   "source": [
    "### Specific SRS items/subscales/factors driving the difference"
   ]
  },
  {
   "cell_type": "code",
   "execution_count": 39,
   "metadata": {
    "id": "uMKi01plk00n"
   },
   "outputs": [],
   "source": [
    "data_merged_nodupl_excl = data_merged_nodupl_excl.rename(columns = {'SRS_1_1': 'SRS_1', 'SRS_1_2': 'SRS_2', 'SRS_1_3': 'SRS_3', 'SRS_1_4': 'SRS_4', 'SRS_1_5': 'SRS_5', 'SRS_1_6': 'SRS_6', 'SRS_1_7': 'SRS_7',\n",
    "                              'SRS_1_8': 'SRS_8', 'SRS_1_9': 'SRS_9', 'SRS_1_10': 'SRS_10', 'SRS_2_1': 'SRS_11', 'SRS_2_2': 'SRS_12', 'SRS_2_3': 'SRS_13', 'SRS_2_4': 'SRS_14',\n",
    "                              'SRS_2_5': 'SRS_15', 'SRS_2_6': 'SRS_16', 'SRS_2_7': 'SRS_17', 'SRS_2_8': 'SRS_18', 'SRS_2_9': 'SRS_19',  'SRS_2_10': 'SRS_20', 'SRS_3_1': 'SRS_21',\n",
    "                              'SRS_3_2': 'SRS_22', 'SRS_3_3': 'SRS_23', 'SRS_3_4': 'SRS_24', 'SRS_3_5': 'SRS_25', 'SRS_3_6': 'SRS_26', 'SRS_3_7': 'SRS_27', 'SRS_3_8': 'SRS_28',\n",
    "                              'SRS_3_9': 'SRS_29', 'SRS_3_10': 'SRS_30', 'SRS_4_1': 'SRS_31', 'SRS_4_2': 'SRS_32', 'SRS_4_3': 'SRS_33', 'SRS_4_4': 'SRS_34', 'SRS_4_5': 'SRS_35',\n",
    "                              'SRS_4_6': 'SRS_36', 'SRS_4_7': 'SRS_37', 'SRS_4_8': 'SRS_38', 'SRS_4_9': 'SRS_39', 'SRS_4_10': 'SRS_40', 'SRS_5_1': 'SRS_41', 'SRS_5_2': 'SRS_42',\n",
    "                              'SRS_5_3': 'SRS_43', 'SRS_5_4': 'SRS_44', 'SRS_5_5': 'SRS_45', 'SRS_5_6': 'SRS_46', 'SRS_5_7': 'SRS_47', 'SRS_5_8': 'SRS_48', 'SRS_5_9': 'SRS_49',\n",
    "                              'SRS_5_10': 'SRS_50', 'SRS_6_1': 'SRS_51', 'SRS_6_2': 'SRS_52', 'SRS_6_3': 'SRS_53', 'SRS_6_4': 'SRS_54', 'SRS_6_5': 'SRS_55', 'SRS_6_6': 'SRS_56',\n",
    "                              'SRS_6_7': 'SRS_57', 'SRS_6_8': 'SRS_58', 'SRS_6_9': 'SRS_59', 'SRS_6_10': 'SRS_60', 'SRS_7_1': 'SRS_61', 'SRS_7_2': 'SRS_62', 'SRS_7_3': 'SRS_63',\n",
    "                              'SRS_7_4': 'SRS_64', 'SRS_7_5': 'SRS_65'})"
   ]
  },
  {
   "cell_type": "markdown",
   "metadata": {
    "id": "ptdvgymQp7dh"
   },
   "source": [
    "Create a data frame that summarizes, for each SRS item, the mean for online participants, the mean for in-lab participants, and the statistics of the in-lab vs online differences (t-test, cohen's d)"
   ]
  },
  {
   "cell_type": "code",
   "execution_count": 76,
   "metadata": {
    "id": "6CJlFTpsnHbK"
   },
   "outputs": [],
   "source": [
    "item_names = []\n",
    "mean_item_online = []\n",
    "mean_item_inlab = []\n",
    "t_stat_all = []\n",
    "df_all = []\n",
    "p_value_all = []\n",
    "d_all = []\n",
    "d_rev_all = []\n",
    "reverse_coded_fields = ['SRS_3', 'SRS_7', 'SRS_11', 'SRS_12', 'SRS_15', 'SRS_17', 'SRS_21', 'SRS_22', 'SRS_26', 'SRS_32', 'SRS_38', 'SRS_40', 'SRS_43', 'SRS_45', 'SRS_48']\n",
    "\n",
    "for n in range(1,66):\n",
    "  col_name = 'SRS_'+ str(n)\n",
    "  sample1 = data_merged_nodupl_excl[data_merged_nodupl_excl['format']=='Online'][col_name].dropna()\n",
    "  sample2 = data_merged_nodupl_excl[data_merged_nodupl_excl['format']=='In lab'][col_name].dropna()\n",
    "  t_stat, p_value = ttest_ind(sample1, sample2, equal_var=False)\n",
    "  d, df = cohen_d(sample1, sample2)\n",
    "\n",
    "  item_names.append(col_name)\n",
    "  mean_item_inlab.append(np.mean(sample1))\n",
    "  mean_item_online.append(np.mean(sample2))\n",
    "  t_stat_all.append(t_stat)\n",
    "  df_all.append(df)\n",
    "  p_value_all.append(p_value)\n",
    "  d_all.append(d)\n",
    "  if col_name in reverse_coded_fields:\n",
    "    d_rev_all.append(-d)\n",
    "  else:\n",
    "    d_rev_all.append(d)\n",
    "\n",
    "df_item_diff = pd.DataFrame(data = {'SRS_item': item_names, 'In lab mean': mean_item_inlab, 'Online mean': mean_item_online, 'T': t_stat_all, 'df': df_all, 'p': p_value_all, 'Cohens_d': d_all, 'Cohens_d_rev': d_rev_all})"
   ]
  },
  {
   "cell_type": "markdown",
   "metadata": {
    "id": "wXJ_3LHuRC_0"
   },
   "source": [
    "Merge with SRS item description for more info"
   ]
  },
  {
   "cell_type": "code",
   "execution_count": 77,
   "metadata": {
    "id": "E1C5ywkLRF5c"
   },
   "outputs": [],
   "source": [
    "SRS_item_description['Factor_OLpaper'] = SRS_item_description['Factor_OLpaper'].astype('Int64')\n",
    "SRS_item_description['Factor_simplified'] = SRS_item_description['Factor_simplified'].astype('Int64')\n",
    "\n",
    "df_item_diff = pd.merge(df_item_diff, SRS_item_description, on='SRS_item', how='left')\n",
    "df_item_diff = df_item_diff.drop(columns=['index'])"
   ]
  },
  {
   "cell_type": "code",
   "execution_count": 78,
   "metadata": {
    "id": "Vj5kdzwHiuOs"
   },
   "outputs": [],
   "source": [
    "#perform FDR correction\n",
    "df_item_diff = df_item_diff.sort_values(by='p', ascending=True).reset_index(drop=True)\n",
    "for n in range(1,66):\n",
    "  df_item_diff.loc[n-1,'pFDR'] = 0.05 * n / 65\n",
    "  df_item_diff.loc[n-1,'isSigFDR'] = df_item_diff.loc[n-1,'p'] <= df_item_diff.loc[n-1,'pFDR']"
   ]
  },
  {
   "cell_type": "code",
   "execution_count": 43,
   "metadata": {
    "id": "9eopeAJDJmtR"
   },
   "outputs": [],
   "source": [
    "#save data\n",
    "df_item_diff.to_csv(root + '/results/item_online_inlab_diff_data.csv')"
   ]
  },
  {
   "cell_type": "code",
   "execution_count": 44,
   "metadata": {
    "colab": {
     "base_uri": "https://localhost:8080/",
     "height": 561
    },
    "id": "VHCuuf6Xi3Rz",
    "outputId": "7ae9c638-4152-416b-a35e-705e2cecc948"
   },
   "outputs": [
    {
     "data": {
      "text/html": [
       "<div>\n",
       "<style scoped>\n",
       "    .dataframe tbody tr th:only-of-type {\n",
       "        vertical-align: middle;\n",
       "    }\n",
       "\n",
       "    .dataframe tbody tr th {\n",
       "        vertical-align: top;\n",
       "    }\n",
       "\n",
       "    .dataframe thead th {\n",
       "        text-align: right;\n",
       "    }\n",
       "</style>\n",
       "<table border=\"1\" class=\"dataframe\">\n",
       "  <thead>\n",
       "    <tr style=\"text-align: right;\">\n",
       "      <th></th>\n",
       "      <th>SRS_item</th>\n",
       "      <th>In lab mean</th>\n",
       "      <th>Online mean</th>\n",
       "      <th>T</th>\n",
       "      <th>df</th>\n",
       "      <th>p</th>\n",
       "      <th>Cohens_d</th>\n",
       "      <th>Cohens_d_rev</th>\n",
       "      <th>question_text</th>\n",
       "      <th>subscale</th>\n",
       "      <th>is_rev</th>\n",
       "      <th>Factor_simplified</th>\n",
       "      <th>Factor_OLpaper</th>\n",
       "      <th>pFDR</th>\n",
       "      <th>isSigFDR</th>\n",
       "    </tr>\n",
       "  </thead>\n",
       "  <tbody>\n",
       "    <tr>\n",
       "      <th>0</th>\n",
       "      <td>SRS_64</td>\n",
       "      <td>1.610206</td>\n",
       "      <td>0.967611</td>\n",
       "      <td>13.360615</td>\n",
       "      <td>770.493008</td>\n",
       "      <td>9.018726e-37</td>\n",
       "      <td>0.619941</td>\n",
       "      <td>0.619941</td>\n",
       "      <td>I am much more tense in social settings than w...</td>\n",
       "      <td>mot</td>\n",
       "      <td>no</td>\n",
       "      <td>2</td>\n",
       "      <td>2</td>\n",
       "      <td>0.000769</td>\n",
       "      <td>True</td>\n",
       "    </tr>\n",
       "    <tr>\n",
       "      <th>3</th>\n",
       "      <td>SRS_6</td>\n",
       "      <td>1.581475</td>\n",
       "      <td>1.099190</td>\n",
       "      <td>11.481433</td>\n",
       "      <td>775.505910</td>\n",
       "      <td>2.727448e-28</td>\n",
       "      <td>0.529858</td>\n",
       "      <td>0.529858</td>\n",
       "      <td>I would rather be alone than with others.</td>\n",
       "      <td>mot</td>\n",
       "      <td>no</td>\n",
       "      <td>2</td>\n",
       "      <td>2</td>\n",
       "      <td>0.003077</td>\n",
       "      <td>True</td>\n",
       "    </tr>\n",
       "    <tr>\n",
       "      <th>2</th>\n",
       "      <td>SRS_57</td>\n",
       "      <td>1.382504</td>\n",
       "      <td>0.852227</td>\n",
       "      <td>11.705473</td>\n",
       "      <td>803.134500</td>\n",
       "      <td>2.473263e-29</td>\n",
       "      <td>0.525186</td>\n",
       "      <td>0.525186</td>\n",
       "      <td>I tend to isolate myself.</td>\n",
       "      <td>com</td>\n",
       "      <td>no</td>\n",
       "      <td>2</td>\n",
       "      <td>2</td>\n",
       "      <td>0.002308</td>\n",
       "      <td>True</td>\n",
       "    </tr>\n",
       "    <tr>\n",
       "      <th>4</th>\n",
       "      <td>SRS_1</td>\n",
       "      <td>1.578045</td>\n",
       "      <td>1.040486</td>\n",
       "      <td>11.176919</td>\n",
       "      <td>771.385026</td>\n",
       "      <td>5.505404e-27</td>\n",
       "      <td>0.518111</td>\n",
       "      <td>0.518111</td>\n",
       "      <td>I am much more uncomfortable in social situati...</td>\n",
       "      <td>mot</td>\n",
       "      <td>no</td>\n",
       "      <td>2</td>\n",
       "      <td>2</td>\n",
       "      <td>0.003846</td>\n",
       "      <td>True</td>\n",
       "    </tr>\n",
       "    <tr>\n",
       "      <th>1</th>\n",
       "      <td>SRS_33</td>\n",
       "      <td>0.924957</td>\n",
       "      <td>0.463563</td>\n",
       "      <td>12.544607</td>\n",
       "      <td>938.073132</td>\n",
       "      <td>1.752971e-33</td>\n",
       "      <td>0.506145</td>\n",
       "      <td>0.506145</td>\n",
       "      <td>My behavior is socially awkward, even when I a...</td>\n",
       "      <td>com</td>\n",
       "      <td>no</td>\n",
       "      <td>&lt;NA&gt;</td>\n",
       "      <td>5</td>\n",
       "      <td>0.001538</td>\n",
       "      <td>True</td>\n",
       "    </tr>\n",
       "    <tr>\n",
       "      <th>8</th>\n",
       "      <td>SRS_23</td>\n",
       "      <td>1.494854</td>\n",
       "      <td>0.995951</td>\n",
       "      <td>10.499413</td>\n",
       "      <td>760.004469</td>\n",
       "      <td>3.572427e-24</td>\n",
       "      <td>0.492923</td>\n",
       "      <td>0.492923</td>\n",
       "      <td>I do not join group activities or social event...</td>\n",
       "      <td>mot</td>\n",
       "      <td>no</td>\n",
       "      <td>2</td>\n",
       "      <td>2</td>\n",
       "      <td>0.006923</td>\n",
       "      <td>True</td>\n",
       "    </tr>\n",
       "    <tr>\n",
       "      <th>5</th>\n",
       "      <td>SRS_27</td>\n",
       "      <td>1.269726</td>\n",
       "      <td>0.809717</td>\n",
       "      <td>11.003174</td>\n",
       "      <td>842.518779</td>\n",
       "      <td>2.096201e-26</td>\n",
       "      <td>0.476360</td>\n",
       "      <td>0.476360</td>\n",
       "      <td>I avoid starting social interactions with othe...</td>\n",
       "      <td>mot</td>\n",
       "      <td>no</td>\n",
       "      <td>2</td>\n",
       "      <td>2</td>\n",
       "      <td>0.004615</td>\n",
       "      <td>True</td>\n",
       "    </tr>\n",
       "    <tr>\n",
       "      <th>12</th>\n",
       "      <td>SRS_59</td>\n",
       "      <td>1.118782</td>\n",
       "      <td>0.684211</td>\n",
       "      <td>9.613735</td>\n",
       "      <td>765.183720</td>\n",
       "      <td>9.818351e-21</td>\n",
       "      <td>0.448711</td>\n",
       "      <td>0.448711</td>\n",
       "      <td>I am more suspicious than most people.</td>\n",
       "      <td>cog</td>\n",
       "      <td>no</td>\n",
       "      <td>8</td>\n",
       "      <td>8</td>\n",
       "      <td>0.010000</td>\n",
       "      <td>True</td>\n",
       "    </tr>\n",
       "  </tbody>\n",
       "</table>\n",
       "</div>"
      ],
      "text/plain": [
       "   SRS_item  In lab mean  Online mean          T          df             p  \\\n",
       "0    SRS_64     1.610206     0.967611  13.360615  770.493008  9.018726e-37   \n",
       "3     SRS_6     1.581475     1.099190  11.481433  775.505910  2.727448e-28   \n",
       "2    SRS_57     1.382504     0.852227  11.705473  803.134500  2.473263e-29   \n",
       "4     SRS_1     1.578045     1.040486  11.176919  771.385026  5.505404e-27   \n",
       "1    SRS_33     0.924957     0.463563  12.544607  938.073132  1.752971e-33   \n",
       "8    SRS_23     1.494854     0.995951  10.499413  760.004469  3.572427e-24   \n",
       "5    SRS_27     1.269726     0.809717  11.003174  842.518779  2.096201e-26   \n",
       "12   SRS_59     1.118782     0.684211   9.613735  765.183720  9.818351e-21   \n",
       "\n",
       "    Cohens_d  Cohens_d_rev                                      question_text  \\\n",
       "0   0.619941      0.619941  I am much more tense in social settings than w...   \n",
       "3   0.529858      0.529858          I would rather be alone than with others.   \n",
       "2   0.525186      0.525186                          I tend to isolate myself.   \n",
       "4   0.518111      0.518111  I am much more uncomfortable in social situati...   \n",
       "1   0.506145      0.506145  My behavior is socially awkward, even when I a...   \n",
       "8   0.492923      0.492923  I do not join group activities or social event...   \n",
       "5   0.476360      0.476360  I avoid starting social interactions with othe...   \n",
       "12  0.448711      0.448711             I am more suspicious than most people.   \n",
       "\n",
       "   subscale is_rev  Factor_simplified  Factor_OLpaper      pFDR isSigFDR  \n",
       "0       mot     no                  2               2  0.000769     True  \n",
       "3       mot     no                  2               2  0.003077     True  \n",
       "2       com     no                  2               2  0.002308     True  \n",
       "4       mot     no                  2               2  0.003846     True  \n",
       "1       com     no               <NA>               5  0.001538     True  \n",
       "8       mot     no                  2               2  0.006923     True  \n",
       "5       mot     no                  2               2  0.004615     True  \n",
       "12      cog     no                  8               8  0.010000     True  "
      ]
     },
     "execution_count": 44,
     "metadata": {},
     "output_type": "execute_result"
    }
   ],
   "source": [
    "# show the largest differences for comparison\n",
    "df_item_diff.sort_values(by='Cohens_d_rev', ascending=False, inplace=True)\n",
    "df_item_diff.head(8)"
   ]
  },
  {
   "cell_type": "markdown",
   "metadata": {
    "id": "YiCK7yhiKf4K"
   },
   "source": [
    "## Individual differences in SRS scores beyond the study format\n"
   ]
  },
  {
   "cell_type": "markdown",
   "metadata": {
    "id": "TmGFqPCsaYlu"
   },
   "source": [
    "### Main glm"
   ]
  },
  {
   "cell_type": "markdown",
   "metadata": {
    "id": "rPKFM01YNBz6"
   },
   "source": [
    "Run a glm predicting SRS from as many variables as possible given what we have (exclude variables with too many missing data):\n",
    "* format (none missing)\n",
    "* BDI (95 missing)\n",
    "* LSAS (344 missing)\n",
    "* Trait anxiety (95 missing)\n",
    "* Gender_recode (78 missing)\n",
    "* age (21 missing)\n",
    "* date_ordinal (none missing)"
   ]
  },
  {
   "cell_type": "code",
   "execution_count": 45,
   "metadata": {
    "colab": {
     "base_uri": "https://localhost:8080/",
     "height": 424
    },
    "id": "Tu2ZYQHKXsBj",
    "outputId": "0cbec173-82d3-4b25-d780-9a2879cb6339"
   },
   "outputs": [
    {
     "name": "stdout",
     "output_type": "stream",
     "text": [
      "                            OLS Regression Results                            \n",
      "==============================================================================\n",
      "Dep. Variable:                    SRS   R-squared:                       0.551\n",
      "Model:                            OLS   Adj. R-squared:                  0.549\n",
      "Method:                 Least Squares   F-statistic:                     368.6\n",
      "Date:                Mon, 23 Dec 2024   Prob (F-statistic):               0.00\n",
      "Time:                        16:18:57   Log-Likelihood:                -10672.\n",
      "No. Observations:                2414   AIC:                         2.136e+04\n",
      "Df Residuals:                    2405   BIC:                         2.141e+04\n",
      "Df Model:                           8                                         \n",
      "Covariance Type:            nonrobust                                         \n",
      "====================================================================================================================\n",
      "                                                       coef    std err          t      P>|t|      [0.025      0.975]\n",
      "--------------------------------------------------------------------------------------------------------------------\n",
      "Intercept                                           50.5904      1.082     46.767      0.000      48.469      52.712\n",
      "format[T.Online]                                     5.9859      1.167      5.127      0.000       3.697       8.275\n",
      "C(Gender_recode, Treatment(reference=\"W\"))[T.M]      8.9637      0.845     10.603      0.000       7.306      10.621\n",
      "C(Gender_recode, Treatment(reference=\"W\"))[T.NB]    15.2533      2.922      5.219      0.000       9.522      20.984\n",
      "scale(BDI)                                           6.8635      0.673     10.192      0.000       5.543       8.184\n",
      "scale(LSAS)                                         10.5099      0.532     19.745      0.000       9.466      11.554\n",
      "scale(STAI_trait)                                    6.9182      0.716      9.660      0.000       5.514       8.323\n",
      "scale(age)                                          -1.3024      0.427     -3.048      0.002      -2.140      -0.464\n",
      "scale(date_ordinal)                                 -2.0849      0.435     -4.790      0.000      -2.938      -1.231\n",
      "==============================================================================\n",
      "Omnibus:                      123.357   Durbin-Watson:                   1.996\n",
      "Prob(Omnibus):                  0.000   Jarque-Bera (JB):              158.837\n",
      "Skew:                           0.500   Prob(JB):                     3.23e-35\n",
      "Kurtosis:                       3.762   Cond. No.                         11.0\n",
      "==============================================================================\n",
      "\n",
      "Notes:\n",
      "[1] Standard Errors assume that the covariance matrix of the errors is correctly specified.\n"
     ]
    }
   ],
   "source": [
    "df_glm = data_merged_nodupl_excl[['SRS', 'format', 'BDI', 'LSAS', 'STAI_trait', 'Gender_recode', 'age', 'date_ordinal']].dropna()\n",
    "model = smf.ols('SRS ~ format + scale(BDI) + scale(LSAS) + scale(STAI_trait) +  C(Gender_recode, Treatment(reference=\"W\")) + scale(age) + scale(date_ordinal)',\n",
    "                data=df_glm).fit()\n",
    "print(model.summary())"
   ]
  },
  {
   "cell_type": "markdown",
   "metadata": {
    "id": "PgoAui1et3b6"
   },
   "source": [
    "### Variance partition analysis"
   ]
  },
  {
   "cell_type": "code",
   "execution_count": 46,
   "metadata": {
    "colab": {
     "base_uri": "https://localhost:8080/"
    },
    "id": "7LwORZFRd1xi",
    "outputId": "582344d6-1301-43e0-eb23-ceef444d89cf"
   },
   "outputs": [
    {
     "name": "stdout",
     "output_type": "stream",
     "text": [
      "Partial R-squared for format: 0.011\n",
      "Partial R-squared for BDI: 0.041\n",
      "Partial R-squared for LSAS: 0.139\n",
      "Partial R-squared for STAI trait: 0.037\n",
      "Partial R-squared for gender: 0.051\n",
      "Partial R-squared for age: 0.004\n",
      "Partial R-squared for date: 0.009\n"
     ]
    }
   ],
   "source": [
    "# Fit a reduced model, excluding each regressor\n",
    "reduced_model_format = smf.ols('SRS ~ scale(BDI) + scale(LSAS) + scale(STAI_trait) + C(Gender_recode, Treatment(reference=\"W\")) + scale(age) + scale(date_ordinal)', data=df_glm).fit()\n",
    "reduced_model_BDI = smf.ols('SRS ~ format + scale(LSAS) + scale(STAI_trait) + C(Gender_recode, Treatment(reference=\"W\")) + scale(age) + scale(date_ordinal)', data=df_glm).fit()\n",
    "reduced_model_LSAS = smf.ols('SRS ~ format + scale(BDI) + scale(STAI_trait) + C(Gender_recode, Treatment(reference=\"W\")) + scale(age) + scale(date_ordinal)', data=df_glm).fit()\n",
    "reduced_model_STAItrait = smf.ols('SRS ~ format + scale(BDI) + scale(LSAS) + C(Gender_recode, Treatment(reference=\"W\")) + scale(age) + scale(date_ordinal)', data=df_glm).fit()\n",
    "reduced_model_gender = smf.ols('SRS ~ format + scale(BDI) + scale(LSAS) + scale(STAI_trait) + scale(age) + scale(date_ordinal)', data=df_glm).fit()\n",
    "reduced_model_age = smf.ols('SRS ~ format + scale(BDI) + scale(LSAS) + scale(STAI_trait) + C(Gender_recode, Treatment(reference=\"W\"))  + scale(date_ordinal)', data=df_glm).fit()\n",
    "reduced_model_date = smf.ols('SRS ~ format + scale(BDI) + scale(LSAS) + scale(STAI_trait) + C(Gender_recode, Treatment(reference=\"W\")) + scale(age)', data=df_glm).fit()\n",
    "\n",
    "# Extract R-squared for all models\n",
    "r2_full = model.rsquared\n",
    "r2_reduced_format = reduced_model_format.rsquared\n",
    "r2_reduced_BDI = reduced_model_BDI.rsquared\n",
    "r2_reduced_LSAS = reduced_model_LSAS.rsquared\n",
    "r2_reduced_STAItrait = reduced_model_STAItrait.rsquared\n",
    "r2_reduced_gender = reduced_model_gender.rsquared\n",
    "r2_reduced_age = reduced_model_age.rsquared\n",
    "r2_reduced_date = reduced_model_date.rsquared\n",
    "\n",
    "# Calculate partial r-squared\n",
    "partial_r2_format = (r2_full - r2_reduced_format) / (1 - r2_reduced_format)\n",
    "partial_r2_BDI = (r2_full - r2_reduced_BDI) / (1 - r2_reduced_BDI)\n",
    "partial_r2_LSAS = (r2_full - r2_reduced_LSAS) / (1 - r2_reduced_LSAS)\n",
    "partial_r2_STAItrait = (r2_full - r2_reduced_STAItrait) / (1 - r2_reduced_STAItrait)\n",
    "partial_r2_gender = (r2_full - r2_reduced_gender) / (1 - r2_reduced_gender)\n",
    "partial_r2_age = (r2_full - r2_reduced_age) / (1 - r2_reduced_age)\n",
    "partial_r2_date = (r2_full - r2_reduced_date) / (1 - r2_reduced_date)\n",
    "\n",
    "print(f'Partial R-squared for format: {partial_r2_format:.3f}')\n",
    "print(f'Partial R-squared for BDI: {partial_r2_BDI:.3f}')\n",
    "print(f'Partial R-squared for LSAS: {partial_r2_LSAS:.3f}')\n",
    "print(f'Partial R-squared for STAI trait: {partial_r2_STAItrait:.3f}')\n",
    "print(f'Partial R-squared for gender: {partial_r2_gender:.3f}')\n",
    "print(f'Partial R-squared for age: {partial_r2_age:.3f}')\n",
    "print(f'Partial R-squared for date: {partial_r2_date:.3f}')"
   ]
  },
  {
   "cell_type": "markdown",
   "metadata": {
    "id": "WM2C-Gxo6Njg"
   },
   "source": [
    "Specifically look at how much of the variance explained by format in a simple SRS ~ format model is now explained by other factors in the new model:"
   ]
  },
  {
   "cell_type": "code",
   "execution_count": 47,
   "metadata": {
    "colab": {
     "base_uri": "https://localhost:8080/"
    },
    "id": "XQCY3OP_6Vof",
    "outputId": "bf207c2c-4f94-4292-c04b-d0786a63c8dd"
   },
   "outputs": [
    {
     "name": "stdout",
     "output_type": "stream",
     "text": [
      "Partial R-squared for format vs intercept: 0.058\n"
     ]
    }
   ],
   "source": [
    "simple_model_format = smf.ols('SRS ~ format', data=df_glm).fit()\n",
    "intercept_model = smf.ols('SRS ~ 1', data=df_glm).fit()\n",
    "r2_simple_format = simple_model_format.rsquared\n",
    "r2_intercept = intercept_model.rsquared\n",
    "partial_r2_format_simple = (r2_simple_format - r2_intercept) / (1 - r2_simple_format)\n",
    "print(f'Partial R-squared for format vs intercept: {partial_r2_format_simple:.3f}')"
   ]
  },
  {
   "cell_type": "markdown",
   "metadata": {
    "id": "I9hynkrTwDob"
   },
   "source": [
    "Assessing how much of the internalizing symptoms specifically contribute to this variance explained:"
   ]
  },
  {
   "cell_type": "code",
   "execution_count": 48,
   "metadata": {
    "id": "AfgZezAUt-si"
   },
   "outputs": [],
   "source": [
    "# Assessing partial R-squared for format in models with and without internalizing symptoms\n",
    "reduced_model_internalizing = smf.ols('SRS ~ format + C(Gender_recode, Treatment(reference=\"W\")) + scale(age) + scale(date_ordinal)', data=df_glm).fit()\n",
    "reduced_model_format_internalizing = smf.ols('SRS ~ C(Gender_recode, Treatment(reference=\"W\")) + scale(age) + scale(date_ordinal)', data=df_glm).fit()\n",
    "reduced_model_dem = smf.ols('SRS ~ format + scale(BDI) + scale(LSAS) + scale(STAI_trait)', data=df_glm).fit()\n",
    "reduced_model_format_dem = smf.ols('SRS ~ scale(BDI) + scale(LSAS) + scale(STAI_trait)', data=df_glm).fit()\n",
    "reduced_model_format_BDI = smf.ols('SRS ~ scale(LSAS) + scale(STAI_trait) + C(Gender_recode, Treatment(reference=\"W\")) + scale(age) + scale(date_ordinal)', data=df_glm).fit()\n",
    "reduced_model_format_LSAS = smf.ols('SRS ~ scale(BDI) + scale(STAI_trait) + C(Gender_recode, Treatment(reference=\"W\")) + scale(age) + scale(date_ordinal)', data=df_glm).fit()\n",
    "reduced_model_format_STAItrait = smf.ols('SRS ~ scale(BDI) + scale(LSAS) + C(Gender_recode, Treatment(reference=\"W\")) + scale(age) + scale(date_ordinal)', data=df_glm).fit()\n",
    "reduced_model_format_gender = smf.ols('SRS ~ scale(BDI) + scale(LSAS) + scale(STAI_trait) + scale(age) + scale(date_ordinal)', data=df_glm).fit()\n",
    "reduced_model_format_age = smf.ols('SRS ~ scale(BDI) + scale(LSAS) + scale(STAI_trait) + C(Gender_recode, Treatment(reference=\"W\")) + scale(date_ordinal)', data=df_glm).fit()\n",
    "reduced_model_format_date = smf.ols('SRS ~ scale(BDI) + scale(LSAS) + scale(STAI_trait) + C(Gender_recode, Treatment(reference=\"W\")) + scale(age)', data=df_glm).fit()\n",
    "\n",
    "# Extract R-squared for all models\n",
    "r2_reduced_internalizing = reduced_model_internalizing.rsquared\n",
    "r2_reduced_format_internalizing = reduced_model_format_internalizing.rsquared\n",
    "r2_reduced_dem = reduced_model_dem.rsquared\n",
    "r2_reduced_format_dem = reduced_model_format_dem.rsquared\n",
    "r2_reduced_format_BDI = reduced_model_format_BDI.rsquared\n",
    "r2_reduced_format_LSAS = reduced_model_format_LSAS.rsquared\n",
    "r2_reduced_format_STAItrait = reduced_model_format_STAItrait.rsquared\n",
    "r2_reduced_format_gender = reduced_model_format_gender.rsquared\n",
    "r2_reduced_format_age = reduced_model_format_age.rsquared\n",
    "r2_reduced_format_date = reduced_model_format_date.rsquared\n",
    "\n",
    "# Calculate partial R-squared for format (comparing models with and without format)\n",
    "partial_r2_format_internalizing = (r2_reduced_internalizing - r2_reduced_format_internalizing) / (1 - r2_reduced_format_internalizing)\n",
    "partial_r2_format_dem = (r2_reduced_dem - r2_reduced_format_dem) / (1 - r2_reduced_format_dem)\n",
    "partial_r2_format_BDI = (r2_reduced_BDI - r2_reduced_format_BDI) / (1 - r2_reduced_format_BDI)\n",
    "partial_r2_format_LSAS = (r2_reduced_LSAS - r2_reduced_format_LSAS) / (1 - r2_reduced_format_LSAS)\n",
    "partial_r2_format_STAItrait = (r2_reduced_STAItrait - r2_reduced_format_STAItrait) / (1 - r2_reduced_format_STAItrait)\n",
    "partial_r2_format_gender = (r2_reduced_gender - r2_reduced_format_gender) / (1 - r2_reduced_format_gender)\n",
    "partial_r2_format_age = (r2_reduced_age - r2_reduced_format_age) / (1 - r2_reduced_format_age)\n",
    "partial_r2_format_date = (r2_reduced_date - r2_reduced_format_date) / (1 - r2_reduced_format_date)"
   ]
  },
  {
   "cell_type": "code",
   "execution_count": 49,
   "metadata": {
    "colab": {
     "base_uri": "https://localhost:8080/"
    },
    "id": "QHToM_7P2hCb",
    "outputId": "38a6f7c2-03f2-46ff-ec53-4be26218fc49"
   },
   "outputs": [
    {
     "name": "stdout",
     "output_type": "stream",
     "text": [
      "Proportion of variance explained by study format in different models:\n",
      "In a simple model (intercept + format): 0.0585\n",
      "In the full model (intercept + format + BDI + LSAS + STAI + gender + age + date): 0.0108\n",
      "In a model without internalizing symptoms (intercept + format + gender + age + date): 0.0490\n",
      "In a model without BDI (intercept + format + LSAS + STAI + gender + age + date): 0.0126\n",
      "In a model without LSAS (intercept + format + BDI + + STAI + gender + age + date): 0.0296\n",
      "In a model without STAItrait (intercept + format + BDI + LSAS + gender + age + date): 0.0086\n",
      "In a model without gender, age and date (intercept + format + BDI + LSAS + STAI): 0.0207\n",
      "In a model without gender (intercept + format + BDI + LSAS + STAI + age + date): 0.0144\n",
      "In a model without age (intercept + format + BDI + LSAS + STAI + gender + date): 0.0103\n",
      "In a model without date (intercept + format + BDI + LSAS + STAI + gender + age): 0.0177\n"
     ]
    }
   ],
   "source": [
    "print('Proportion of variance explained by study format in different models:')\n",
    "print(f'In a simple model (intercept + format): {partial_r2_format_simple:.4f}')\n",
    "print(f'In the full model (intercept + format + BDI + LSAS + STAI + gender + age + date): {partial_r2_format:.4f}')\n",
    "print(f'In a model without internalizing symptoms (intercept + format + gender + age + date): {partial_r2_format_internalizing:.4f}')\n",
    "print(f'In a model without BDI (intercept + format + LSAS + STAI + gender + age + date): {partial_r2_format_BDI:.4f}')\n",
    "print(f'In a model without LSAS (intercept + format + BDI + + STAI + gender + age + date): {partial_r2_format_LSAS:.4f}')\n",
    "print(f'In a model without STAItrait (intercept + format + BDI + LSAS + gender + age + date): {partial_r2_format_STAItrait:.4f}')\n",
    "print(f'In a model without gender, age and date (intercept + format + BDI + LSAS + STAI): {partial_r2_format_dem:.4f}')\n",
    "print(f'In a model without gender (intercept + format + BDI + LSAS + STAI + age + date): {partial_r2_format_gender:.4f}')\n",
    "print(f'In a model without age (intercept + format + BDI + LSAS + STAI + gender + date): {partial_r2_format_age:.4f}')\n",
    "print(f'In a model without date (intercept + format + BDI + LSAS + STAI + gender + age): {partial_r2_format_date:.4f}')"
   ]
  },
  {
   "cell_type": "markdown",
   "metadata": {
    "id": "0my-UtRK8NSc"
   },
   "source": [
    "### Testing for interactions with study format\n",
    "\n",
    "Because online vs in-lab is our main variable of interest we can test for two-way interaction with format only."
   ]
  },
  {
   "cell_type": "code",
   "execution_count": 50,
   "metadata": {
    "colab": {
     "base_uri": "https://localhost:8080/"
    },
    "id": "lYnNWiwg8dzL",
    "outputId": "328d5624-11e2-4dfb-ccb7-c9d12c3e89f8"
   },
   "outputs": [
    {
     "name": "stdout",
     "output_type": "stream",
     "text": [
      "                            OLS Regression Results                            \n",
      "==============================================================================\n",
      "Dep. Variable:                    SRS   R-squared:                       0.553\n",
      "Model:                            OLS   Adj. R-squared:                  0.550\n",
      "Method:                 Least Squares   F-statistic:                     197.5\n",
      "Date:                Mon, 23 Dec 2024   Prob (F-statistic):               0.00\n",
      "Time:                        16:19:09   Log-Likelihood:                -10667.\n",
      "No. Observations:                2414   AIC:                         2.137e+04\n",
      "Df Residuals:                    2398   BIC:                         2.146e+04\n",
      "Df Model:                          15                                         \n",
      "Covariance Type:            nonrobust                                         \n",
      "=====================================================================================================================================\n",
      "                                                                        coef    std err          t      P>|t|      [0.025      0.975]\n",
      "-------------------------------------------------------------------------------------------------------------------------------------\n",
      "Intercept                                                            49.3692      1.655     29.822      0.000      46.123      52.615\n",
      "format[T.Online]                                                      7.4071      1.771      4.182      0.000       3.934      10.880\n",
      "C(Gender_recode, Treatment(reference=\"W\"))[T.M]                      11.8771      2.145      5.538      0.000       7.672      16.083\n",
      "C(Gender_recode, Treatment(reference=\"W\"))[T.NB]                      8.4402      5.356      1.576      0.115      -2.063      18.943\n",
      "format[T.Online]:C(Gender_recode, Treatment(reference=\"W\"))[T.M]     -3.5195      2.334     -1.508      0.132      -8.097       1.058\n",
      "format[T.Online]:C(Gender_recode, Treatment(reference=\"W\"))[T.NB]     9.9524      6.392      1.557      0.120      -2.582      22.487\n",
      "scale(BDI)                                                            7.4244      1.901      3.905      0.000       3.696      11.153\n",
      "format[T.Online]:scale(BDI)                                          -0.7615      2.034     -0.374      0.708      -4.751       3.228\n",
      "scale(LSAS)                                                           9.4206      1.436      6.558      0.000       6.604      12.237\n",
      "format[T.Online]:scale(LSAS)                                          1.3433      1.547      0.868      0.385      -1.691       4.377\n",
      "scale(STAI_trait)                                                     6.4631      1.938      3.334      0.001       2.662      10.264\n",
      "format[T.Online]:scale(STAI_trait)                                    0.5850      2.087      0.280      0.779      -3.508       4.678\n",
      "scale(age)                                                           -0.4845      1.022     -0.474      0.635      -2.488       1.519\n",
      "format[T.Online]:scale(age)                                          -1.0795      1.126     -0.959      0.338      -3.287       1.128\n",
      "scale(date_ordinal)                                                  -1.9408      1.460     -1.330      0.184      -4.803       0.921\n",
      "format[T.Online]:scale(date_ordinal)                                 -0.1694      1.529     -0.111      0.912      -3.169       2.830\n",
      "==============================================================================\n",
      "Omnibus:                      124.204   Durbin-Watson:                   2.000\n",
      "Prob(Omnibus):                  0.000   Jarque-Bera (JB):              159.262\n",
      "Skew:                           0.504   Prob(JB):                     2.61e-35\n",
      "Kurtosis:                       3.753   Cond. No.                         39.8\n",
      "==============================================================================\n",
      "\n",
      "Notes:\n",
      "[1] Standard Errors assume that the covariance matrix of the errors is correctly specified.\n"
     ]
    }
   ],
   "source": [
    "model_int2 = smf.ols('SRS ~ format * (C(Gender_recode, Treatment(reference=\"W\")) + scale(BDI) + scale(LSAS) + scale(STAI_trait) + scale(age) + scale(date_ordinal))', data=df_glm).fit()\n",
    "print(model_int2.summary())"
   ]
  },
  {
   "cell_type": "markdown",
   "metadata": {
    "id": "nYYFJrYt9I_g"
   },
   "source": [
    "Let's plot only the interaction effects from this glm"
   ]
  },
  {
   "cell_type": "code",
   "execution_count": 51,
   "metadata": {
    "colab": {
     "base_uri": "https://localhost:8080/",
     "height": 407
    },
    "id": "VltOpUCV81iA",
    "outputId": "414a36b5-b005-452f-d049-25f9f8f58c21"
   },
   "outputs": [
    {
     "data": {
      "image/png": "[encoded data removed]",
      "text/plain": [
       "<Figure size 700x400 with 1 Axes>"
      ]
     },
     "metadata": {},
     "output_type": "display_data"
    }
   ],
   "source": [
    "#make summary df before plotting\n",
    "coef = model_int2.params[1:]\n",
    "conf_int = model_int2.conf_int()[1:]\n",
    "results_df_int2 = pd.DataFrame({\n",
    "    'coef': coef.to_list(),\n",
    "    'err': ((conf_int.loc[:,1] - conf_int.loc[:, 0]) / 2).to_list(),\n",
    "    'lower': conf_int.loc[:, 0].to_list(),\n",
    "    'upper': conf_int.loc[:, 1].to_list()\n",
    "}, index=['Online>In-lab', 'Gender(M>W)', 'Gender(NB>W)', 'Online>In-lab * Gender(M>W)', 'Online>In-lab * Gender(NB>W)','BDIz','Online>In-lab * BDIz','LSASz', 'Online>In-lab * LSASz', 'STAI_traitz', 'Online>In-lab * STAI_traitz', 'agez', 'Online>In-lab * agez', 'date_ordinalz','Online>In-lab * date_ordinalz'])\n",
    "\n",
    "#make a plot of the coefficients\n",
    "fig, ax = plt.subplots(figsize=(7, 4))\n",
    "y_pos = range(len(results_df_int2))\n",
    "ax.errorbar(results_df_int2['coef'], y_pos, xerr=results_df_int2['err'], fmt='o', capsize=5, capthick=2, color='blue')\n",
    "ax.axvline(x=0, color='red', linestyle='--')\n",
    "ax.set_yticks(y_pos)\n",
    "ax.set_yticklabels(results_df_int2.index)\n",
    "ax.set_xlabel('Coefficient Value')\n",
    "ax.set_title('Interaction Coefs predicting SRS (with 95% CI)')\n",
    "plt.tight_layout()\n",
    "plt.show()"
   ]
  },
  {
   "cell_type": "markdown",
   "metadata": {
    "id": "76ASRzO4-fWX"
   },
   "source": [
    "# Stability of SRS scores"
   ]
  },
  {
   "cell_type": "markdown",
   "metadata": {
    "id": "IAvTADAWjwrs"
   },
   "source": [
    "## Summary of variables"
   ]
  },
  {
   "cell_type": "code",
   "execution_count": 52,
   "metadata": {
    "id": "JkierHGnlWkZ"
   },
   "outputs": [],
   "source": [
    "def summary_var_trt(var):\n",
    "  mean_online = np.mean(t_rt_cutoff.loc[t_rt_cutoff['format']=='Online',var])\n",
    "  mean_inlab = np.mean(t_rt_cutoff.loc[t_rt_cutoff['format']=='In lab',var])\n",
    "  sd_online = np.std(t_rt_cutoff.loc[t_rt_cutoff['format']=='Online',var])\n",
    "  sd_inlab = np.std(t_rt_cutoff.loc[t_rt_cutoff['format']=='In lab',var])\n",
    "  na_online = np.sum(t_rt_cutoff.loc[t_rt_cutoff['format']=='Online',var].isna())\n",
    "  na_inlab = np.sum(t_rt_cutoff.loc[t_rt_cutoff['format']=='In lab',var].isna())\n",
    "  print(\"Online, mean\", var, \"=\", mean_online, \", SD =\", sd_online, \", missing =\", na_online)\n",
    "  print(\"In-lab, mean\", var, \"=\", mean_inlab, \", SD =\", sd_inlab, \", missing =\", na_inlab)"
   ]
  },
  {
   "cell_type": "markdown",
   "metadata": {
    "id": "53BDroIs1siU"
   },
   "source": [
    "Sex"
   ]
  },
  {
   "cell_type": "code",
   "execution_count": 53,
   "metadata": {
    "colab": {
     "base_uri": "https://localhost:8080/"
    },
    "id": "5K8WbztQj1E5",
    "outputId": "10aef232-244c-451a-eff5-5405de3d2bc8"
   },
   "outputs": [
    {
     "name": "stdout",
     "output_type": "stream",
     "text": [
      "Online: Number of f = 108\n",
      "Online: Number of m = 95\n",
      "Online: Number of nan = 0\n",
      "In-lab: Number of f = 20\n",
      "In-lab: Number of m = 23\n",
      "In-lab: Number of nan = 1\n"
     ]
    }
   ],
   "source": [
    "for g in t_rt_cutoff['Sex'].unique().tolist():\n",
    "  ng = t_rt_cutoff.loc[t_rt_cutoff['format']=='Online','Sex'].tolist().count(g)\n",
    "  print(\"Online: Number of\", g, \"=\", ng)\n",
    "\n",
    "for g in t_rt_cutoff['Sex'].unique().tolist():\n",
    "  ng = t_rt_cutoff.loc[t_rt_cutoff['format']=='In lab','Sex'].tolist().count(g)\n",
    "  print(\"In-lab: Number of\", g, \"=\", ng)"
   ]
  },
  {
   "cell_type": "markdown",
   "metadata": {
    "id": "YQFE4NGa1tR9"
   },
   "source": [
    "Age"
   ]
  },
  {
   "cell_type": "code",
   "execution_count": 54,
   "metadata": {
    "colab": {
     "base_uri": "https://localhost:8080/"
    },
    "id": "uz6aJgFDkuLv",
    "outputId": "9b321366-95e8-43ae-94e3-df7e6ace53f8"
   },
   "outputs": [
    {
     "name": "stdout",
     "output_type": "stream",
     "text": [
      "Online, mean age_T1 = 34.19211822660098 , SD = 11.812890051769086 , missing = 0\n",
      "In-lab, mean age_T1 = 32.02272727272727 , SD = 8.175597382575996 , missing = 0\n"
     ]
    }
   ],
   "source": [
    "summary_var_trt('age_T1')"
   ]
  },
  {
   "cell_type": "markdown",
   "metadata": {
    "id": "SSaw3dNC1vId"
   },
   "source": [
    "Questionnaires"
   ]
  },
  {
   "cell_type": "code",
   "execution_count": 55,
   "metadata": {
    "colab": {
     "base_uri": "https://localhost:8080/"
    },
    "id": "s1OZnKx6lhCp",
    "outputId": "a95df2ac-2d6a-4eed-c4c9-adeac2d083b3"
   },
   "outputs": [
    {
     "name": "stdout",
     "output_type": "stream",
     "text": [
      "Online, mean SRS_T1 = 56.76354679802956 , SD = 29.10408112549063 , missing = 0\n",
      "In-lab, mean SRS_T1 = 37.18181818181818 , SD = 23.480429691817754 , missing = 0\n",
      "Online, mean SRS_T2 = 55.46305418719212 , SD = 29.848754453009903 , missing = 0\n",
      "In-lab, mean SRS_T2 = 35.29545454545455 , SD = 23.437130162371286 , missing = 0\n",
      "Online, mean STAI_trait_T1 = 44.6551724137931 , SD = 13.427026283674664 , missing = 0\n",
      "In-lab, mean STAI_trait_T1 = 38.121212121212125 , SD = 9.609835793878458 , missing = 11\n",
      "Online, mean STAI_trait_T2 = 44.18226600985221 , SD = 14.033432311854654 , missing = 0\n",
      "In-lab, mean STAI_trait_T2 = 37.58064516129032 , SD = 10.609716160346691 , missing = 13\n",
      "Online, mean LSAS_T1 = 56.75369458128079 , SD = 31.17799564530157 , missing = 0\n",
      "In-lab, mean LSAS_T1 = 26.757575757575758 , SD = 17.77303081711386 , missing = 11\n",
      "Online, mean LSAS_T2 = 56.30049261083744 , SD = 31.512502011242553 , missing = 0\n",
      "In-lab, mean LSAS_T2 = 32.473684210526315 , SD = 25.184306769876045 , missing = 25\n",
      "Online, mean BDI_T1 = 13.147783251231527 , SD = 12.475703777390569 , missing = 0\n",
      "In-lab, mean BDI_T1 = 6.666666666666667 , SD = 6.15785611387534 , missing = 11\n",
      "Online, mean BDI_T2 = 12.975369458128078 , SD = 12.84098979643589 , missing = 0\n",
      "In-lab, mean BDI_T2 = 7.1 , SD = 6.982597415479907 , missing = 14\n"
     ]
    }
   ],
   "source": [
    "summary_var_trt('SRS_T1')\n",
    "summary_var_trt('SRS_T2')\n",
    "summary_var_trt('STAI_trait_T1')\n",
    "summary_var_trt('STAI_trait_T2')\n",
    "summary_var_trt('LSAS_T1')\n",
    "summary_var_trt('LSAS_T2')\n",
    "summary_var_trt('BDI_T1')\n",
    "summary_var_trt('BDI_T2')"
   ]
  },
  {
   "cell_type": "markdown",
   "metadata": {
    "id": "__u8V6i41x5z"
   },
   "source": [
    "Date"
   ]
  },
  {
   "cell_type": "code",
   "execution_count": 56,
   "metadata": {
    "colab": {
     "base_uri": "https://localhost:8080/",
     "height": 178
    },
    "id": "dT3aqGlpl741",
    "outputId": "47a344b9-333f-4d3d-97f2-719d6b82fe24"
   },
   "outputs": [
    {
     "data": {
      "text/plain": [
       "date_T1\n",
       "2021    134\n",
       "2020     69\n",
       "Name: count, dtype: int64"
      ]
     },
     "execution_count": 56,
     "metadata": {},
     "output_type": "execute_result"
    }
   ],
   "source": [
    "t_rt_cutoff['date_T1'] = pd.to_datetime(t_rt_cutoff['date_T1'])\n",
    "t_rt_cutoff['date_T2'] = pd.to_datetime(t_rt_cutoff['date_T2'])\n",
    "t_rt_cutoff[t_rt_cutoff['format']=='Online']['date_T1'].dt.year.value_counts()"
   ]
  },
  {
   "cell_type": "code",
   "execution_count": 57,
   "metadata": {
    "colab": {
     "base_uri": "https://localhost:8080/",
     "height": 335
    },
    "id": "vtZPjH40w9PL",
    "outputId": "4ff065cb-b914-497a-e244-872e0fbcde1c"
   },
   "outputs": [
    {
     "data": {
      "text/plain": [
       "date_T1\n",
       "2021    14\n",
       "2020    11\n",
       "2015     7\n",
       "2014     4\n",
       "2022     4\n",
       "2019     3\n",
       "2023     1\n",
       "Name: count, dtype: int64"
      ]
     },
     "execution_count": 57,
     "metadata": {},
     "output_type": "execute_result"
    }
   ],
   "source": [
    "t_rt_cutoff[t_rt_cutoff['format']=='In lab']['date_T1'].dt.year.value_counts()"
   ]
  },
  {
   "cell_type": "markdown",
   "metadata": {
    "id": "yfdzqFgL-sU4"
   },
   "source": [
    "## Correlations between T1 and T2 SRS scores"
   ]
  },
  {
   "cell_type": "code",
   "execution_count": 58,
   "metadata": {
    "colab": {
     "base_uri": "https://localhost:8080/",
     "height": 354
    },
    "id": "OsybU6D_C9-A",
    "outputId": "333ae04b-2a53-42c4-f368-242a8dc19468"
   },
   "outputs": [
    {
     "data": {
      "text/plain": [
       "Text(0.5, 1.0, 'R = 0.76')"
      ]
     },
     "execution_count": 58,
     "metadata": {},
     "output_type": "execute_result"
    },
    {
     "data": {
      "image/png": "[encoded data removed]",
      "text/plain": [
       "<Figure size 300x300 with 1 Axes>"
      ]
     },
     "metadata": {},
     "output_type": "display_data"
    }
   ],
   "source": [
    "#plot correlation\n",
    "fig, ax = plt.subplots(figsize=(3,3))\n",
    "sns.scatterplot(data=t_rt_cutoff, x='SRS_T1',  y='SRS_T2', color = 'lightgrey', alpha=0.6)\n",
    "sns.regplot(data=t_rt_cutoff, x='SRS_T1', y='SRS_T2', scatter=False, color='green')\n",
    "ax.plot([0, 140], [0, 140], ls='--', c='0.3')\n",
    "ax.set_xlabel('SRS - time 1', fontsize = 12)\n",
    "ax.set_ylabel('SRS - time 2', fontsize = 12)\n",
    "r_value, p_value = pearsonr(t_rt_cutoff['SRS_T1'], t_rt_cutoff['SRS_T2'])\n",
    "ax.set_title(f'R = {r_value:.2f}')"
   ]
  },
  {
   "cell_type": "code",
   "execution_count": 59,
   "metadata": {
    "colab": {
     "base_uri": "https://localhost:8080/"
    },
    "id": "dozcqQ-fDaDF",
    "outputId": "f9607ec5-3c44-4dc6-dfdd-3403063fb84f"
   },
   "outputs": [
    {
     "name": "stdout",
     "output_type": "stream",
     "text": [
      "N = 247\n",
      "53.2753036437247\n",
      "51.87044534412956\n"
     ]
    },
    {
     "data": {
      "text/plain": [
       "TtestResult(statistic=np.float64(1.0732457325763616), pvalue=np.float64(0.28421253404348074), df=np.int64(246))"
      ]
     },
     "execution_count": 59,
     "metadata": {},
     "output_type": "execute_result"
    }
   ],
   "source": [
    "#paired t-test between time 1 and time 2\n",
    "print(\"N =\", len(t_rt_cutoff))\n",
    "print(np.mean(t_rt_cutoff['SRS_T1']))\n",
    "print(np.mean(t_rt_cutoff['SRS_T2']))\n",
    "ttest_rel(t_rt_cutoff['SRS_T1'], t_rt_cutoff['SRS_T2'])"
   ]
  },
  {
   "cell_type": "code",
   "execution_count": 60,
   "metadata": {
    "colab": {
     "base_uri": "https://localhost:8080/"
    },
    "id": "Lq5yIJLC-sU5",
    "outputId": "d2ebbaee-c200-4517-d245-87d01d8dca63"
   },
   "outputs": [
    {
     "name": "stdout",
     "output_type": "stream",
     "text": [
      "Online, N = 203, R = 0.73, P = 0.000\n",
      "In lab, N = 44, R = 0.80, P = 0.000\n"
     ]
    }
   ],
   "source": [
    "# broken down by format\n",
    "r1, p1 = pearsonr(t_rt_cutoff[t_rt_cutoff['format'] == 'Online']['SRS_T1'], t_rt_cutoff[t_rt_cutoff['format'] == 'Online']['SRS_T2'])\n",
    "r2, p2 = pearsonr(t_rt_cutoff[t_rt_cutoff['format'] == 'In lab']['SRS_T1'], t_rt_cutoff[t_rt_cutoff['format'] == 'In lab']['SRS_T2'])\n",
    "n1 = np.sum(t_rt_cutoff['format'] == 'Online')\n",
    "n2 = np.sum(t_rt_cutoff['format'] == 'In lab')\n",
    "print(f'Online, N = {n1}, R = {r1:.2f}, P = {p1:.3f}')\n",
    "print(f'In lab, N = {n2}, R = {r2:.2f}, P = {p2:.3f}')"
   ]
  },
  {
   "cell_type": "code",
   "execution_count": 61,
   "metadata": {
    "colab": {
     "base_uri": "https://localhost:8080/"
    },
    "id": "3V6OkwTs6Bxd",
    "outputId": "53bb9f80-7aae-450a-f5f7-0e44df8e0d16"
   },
   "outputs": [
    {
     "name": "stdout",
     "output_type": "stream",
     "text": [
      "Z-statistic: -1.0045425411249196\n",
      "P-value: 0.3151171768998875\n"
     ]
    }
   ],
   "source": [
    "#check whether the two correlations are different\n",
    "z1 = 0.5 * np.log((1 + r1) / (1 - r1))\n",
    "z2 = 0.5 * np.log((1 + r2) / (1 - r2))\n",
    "se = np.sqrt(1 / (n1 - 3) + 1 / (n2 - 3))\n",
    "z_stat = (z1 - z2) / se\n",
    "p_value = 2 * (1 - norm.cdf(abs(z_stat)))\n",
    "print(\"Z-statistic:\", z_stat)\n",
    "print(\"P-value:\", p_value)"
   ]
  },
  {
   "cell_type": "markdown",
   "metadata": {
    "id": "OyzC94xW-sU9"
   },
   "source": [
    "## Differences in SRS stability driven by specific SRS items/subscales/factors?\n"
   ]
  },
  {
   "cell_type": "code",
   "execution_count": 62,
   "metadata": {
    "id": "Lp5-e4VE9fqn"
   },
   "outputs": [],
   "source": [
    "def cohens_d_paired(x, y):\n",
    "    \"\"\"\n",
    "    Calculate Cohen's d for paired samples.\n",
    "    Parameters:\n",
    "    x: First set of observations\n",
    "    y: Second set of observations\n",
    "    Returns:\n",
    "    Cohen's d\n",
    "    \"\"\"\n",
    "    diff = np.array(y) - np.array(x)\n",
    "    mean_diff = np.mean(diff)\n",
    "    std_diff = np.std(diff, ddof=1)  # Use ddof=1 for unbiased standard deviation\n",
    "    return mean_diff / std_diff"
   ]
  },
  {
   "cell_type": "code",
   "execution_count": 63,
   "metadata": {
    "id": "Sz3hnjwuFVT4"
   },
   "outputs": [],
   "source": [
    "item_names = []\n",
    "mean_item_T1 = []\n",
    "mean_item_T2 = []\n",
    "mean_item_diff = []\n",
    "t_stat_all = []\n",
    "p_value_all = []\n",
    "d_all = []\n",
    "reverse_coded_fields = ['SRS_3', 'SRS_7', 'SRS_11', 'SRS_12', 'SRS_15', 'SRS_17', 'SRS_21', 'SRS_22', 'SRS_26', 'SRS_32', 'SRS_38', 'SRS_40', 'SRS_43', 'SRS_45', 'SRS_48']\n",
    "\n",
    "for n in range(1,66):\n",
    "  col_name = 'SRS_'+ str(n)\n",
    "  col_name_T1 = col_name + '_T1'\n",
    "  col_name_T2 = col_name + '_T2'\n",
    "  if col_name in reverse_coded_fields:\n",
    "    sample1 = 3-t_rt_cutoff[col_name_T1]\n",
    "    sample2 = 3-t_rt_cutoff[col_name_T2]\n",
    "  else:\n",
    "    sample1 = t_rt_cutoff[col_name_T1]\n",
    "    sample2 = t_rt_cutoff[col_name_T2]\n",
    "\n",
    "  diff = sample2 - sample1\n",
    "  t_stat, p_value = ttest_rel(sample1, sample2)\n",
    "  d = cohens_d_paired(sample1, sample2)\n",
    "\n",
    "  item_names.append(col_name)\n",
    "  mean_item_T1.append(np.mean(sample1))\n",
    "  mean_item_T2.append(np.mean(sample2))\n",
    "  mean_item_diff.append(np.mean(diff))\n",
    "  t_stat_all.append(t_stat)\n",
    "  p_value_all.append(p_value)\n",
    "  d_all.append(d)\n",
    "\n",
    "df_item_trt_cutoff = pd.DataFrame(data = {'SRS_item': item_names, 'T1 mean': mean_item_T1, 'T2 mean': mean_item_T2, 'diff_mean': mean_item_diff,\n",
    "                                    'T': t_stat_all, 'p': p_value_all, 'd': d_all})"
   ]
  },
  {
   "cell_type": "code",
   "execution_count": 64,
   "metadata": {
    "colab": {
     "base_uri": "https://localhost:8080/",
     "height": 563
    },
    "id": "1lkqkbKEmo92",
    "outputId": "b26eb9c1-7c24-4b1a-9d6d-73675c5e94f1"
   },
   "outputs": [
    {
     "data": {
      "text/html": [
       "<div>\n",
       "<style scoped>\n",
       "    .dataframe tbody tr th:only-of-type {\n",
       "        vertical-align: middle;\n",
       "    }\n",
       "\n",
       "    .dataframe tbody tr th {\n",
       "        vertical-align: top;\n",
       "    }\n",
       "\n",
       "    .dataframe thead th {\n",
       "        text-align: right;\n",
       "    }\n",
       "</style>\n",
       "<table border=\"1\" class=\"dataframe\">\n",
       "  <thead>\n",
       "    <tr style=\"text-align: right;\">\n",
       "      <th></th>\n",
       "      <th>SRS_item</th>\n",
       "      <th>T1 mean</th>\n",
       "      <th>T2 mean</th>\n",
       "      <th>diff_mean</th>\n",
       "      <th>T</th>\n",
       "      <th>p</th>\n",
       "      <th>d</th>\n",
       "      <th>question_text</th>\n",
       "      <th>subscale</th>\n",
       "      <th>is_rev</th>\n",
       "      <th>Factor_simplified</th>\n",
       "      <th>Factor_OLpaper</th>\n",
       "      <th>pFDR</th>\n",
       "      <th>isSigFDR</th>\n",
       "    </tr>\n",
       "  </thead>\n",
       "  <tbody>\n",
       "    <tr>\n",
       "      <th>0</th>\n",
       "      <td>SRS_21</td>\n",
       "      <td>1.352227</td>\n",
       "      <td>1.056680</td>\n",
       "      <td>-0.295547</td>\n",
       "      <td>4.576328</td>\n",
       "      <td>0.000008</td>\n",
       "      <td>-0.291185</td>\n",
       "      <td>I am able to imitate others\\ actions and expre...</td>\n",
       "      <td>com</td>\n",
       "      <td>yes</td>\n",
       "      <td>3</td>\n",
       "      <td>3</td>\n",
       "      <td>0.000769</td>\n",
       "      <td>True</td>\n",
       "    </tr>\n",
       "    <tr>\n",
       "      <th>1</th>\n",
       "      <td>SRS_26</td>\n",
       "      <td>1.064777</td>\n",
       "      <td>0.947368</td>\n",
       "      <td>-0.117409</td>\n",
       "      <td>2.503927</td>\n",
       "      <td>0.012931</td>\n",
       "      <td>-0.159321</td>\n",
       "      <td>I offer comfort to others when they are sad.</td>\n",
       "      <td>com</td>\n",
       "      <td>yes</td>\n",
       "      <td>3</td>\n",
       "      <td>3</td>\n",
       "      <td>0.001538</td>\n",
       "      <td>False</td>\n",
       "    </tr>\n",
       "    <tr>\n",
       "      <th>2</th>\n",
       "      <td>SRS_1</td>\n",
       "      <td>1.303644</td>\n",
       "      <td>1.510121</td>\n",
       "      <td>0.206478</td>\n",
       "      <td>-2.494007</td>\n",
       "      <td>0.013289</td>\n",
       "      <td>0.158690</td>\n",
       "      <td>I am much more uncomfortable in social situati...</td>\n",
       "      <td>mot</td>\n",
       "      <td>no</td>\n",
       "      <td>2</td>\n",
       "      <td>2</td>\n",
       "      <td>0.002308</td>\n",
       "      <td>False</td>\n",
       "    </tr>\n",
       "    <tr>\n",
       "      <th>3</th>\n",
       "      <td>SRS_55</td>\n",
       "      <td>0.307692</td>\n",
       "      <td>0.190283</td>\n",
       "      <td>-0.117409</td>\n",
       "      <td>2.449525</td>\n",
       "      <td>0.015003</td>\n",
       "      <td>-0.155860</td>\n",
       "      <td>I get too close to others or invade their pers...</td>\n",
       "      <td>com</td>\n",
       "      <td>no</td>\n",
       "      <td>&lt;NA&gt;</td>\n",
       "      <td>1</td>\n",
       "      <td>0.003077</td>\n",
       "      <td>False</td>\n",
       "    </tr>\n",
       "    <tr>\n",
       "      <th>4</th>\n",
       "      <td>SRS_12</td>\n",
       "      <td>1.259109</td>\n",
       "      <td>1.153846</td>\n",
       "      <td>-0.105263</td>\n",
       "      <td>2.138185</td>\n",
       "      <td>0.033487</td>\n",
       "      <td>-0.136049</td>\n",
       "      <td>I am able to communicate my feelings to others.</td>\n",
       "      <td>com</td>\n",
       "      <td>yes</td>\n",
       "      <td>&lt;NA&gt;</td>\n",
       "      <td>4</td>\n",
       "      <td>0.003846</td>\n",
       "      <td>False</td>\n",
       "    </tr>\n",
       "    <tr>\n",
       "      <th>...</th>\n",
       "      <td>...</td>\n",
       "      <td>...</td>\n",
       "      <td>...</td>\n",
       "      <td>...</td>\n",
       "      <td>...</td>\n",
       "      <td>...</td>\n",
       "      <td>...</td>\n",
       "      <td>...</td>\n",
       "      <td>...</td>\n",
       "      <td>...</td>\n",
       "      <td>...</td>\n",
       "      <td>...</td>\n",
       "      <td>...</td>\n",
       "      <td>...</td>\n",
       "    </tr>\n",
       "    <tr>\n",
       "      <th>60</th>\n",
       "      <td>SRS_39</td>\n",
       "      <td>0.457490</td>\n",
       "      <td>0.453441</td>\n",
       "      <td>-0.004049</td>\n",
       "      <td>0.075441</td>\n",
       "      <td>0.939925</td>\n",
       "      <td>-0.004800</td>\n",
       "      <td>People think I am interested in too few topics...</td>\n",
       "      <td>rrb</td>\n",
       "      <td>no</td>\n",
       "      <td>1</td>\n",
       "      <td>1</td>\n",
       "      <td>0.046923</td>\n",
       "      <td>False</td>\n",
       "    </tr>\n",
       "    <tr>\n",
       "      <th>61</th>\n",
       "      <td>SRS_43</td>\n",
       "      <td>1.813765</td>\n",
       "      <td>1.817814</td>\n",
       "      <td>0.004049</td>\n",
       "      <td>-0.072980</td>\n",
       "      <td>0.941881</td>\n",
       "      <td>0.004644</td>\n",
       "      <td>I enjoy small talk (casual conversation with o...</td>\n",
       "      <td>mot</td>\n",
       "      <td>yes</td>\n",
       "      <td>&lt;NA&gt;</td>\n",
       "      <td>2</td>\n",
       "      <td>0.047692</td>\n",
       "      <td>False</td>\n",
       "    </tr>\n",
       "    <tr>\n",
       "      <th>62</th>\n",
       "      <td>SRS_57</td>\n",
       "      <td>1.238866</td>\n",
       "      <td>1.234818</td>\n",
       "      <td>-0.004049</td>\n",
       "      <td>0.070045</td>\n",
       "      <td>0.944215</td>\n",
       "      <td>-0.004457</td>\n",
       "      <td>I tend to isolate myself.</td>\n",
       "      <td>com</td>\n",
       "      <td>no</td>\n",
       "      <td>2</td>\n",
       "      <td>2</td>\n",
       "      <td>0.048462</td>\n",
       "      <td>False</td>\n",
       "    </tr>\n",
       "    <tr>\n",
       "      <th>63</th>\n",
       "      <td>SRS_29</td>\n",
       "      <td>0.724696</td>\n",
       "      <td>0.724696</td>\n",
       "      <td>0.000000</td>\n",
       "      <td>0.000000</td>\n",
       "      <td>1.000000</td>\n",
       "      <td>0.000000</td>\n",
       "      <td>I am regarded by others as odd or weird.</td>\n",
       "      <td>rrb</td>\n",
       "      <td>no</td>\n",
       "      <td>&lt;NA&gt;</td>\n",
       "      <td>7</td>\n",
       "      <td>0.049231</td>\n",
       "      <td>False</td>\n",
       "    </tr>\n",
       "    <tr>\n",
       "      <th>64</th>\n",
       "      <td>SRS_16</td>\n",
       "      <td>0.663968</td>\n",
       "      <td>0.663968</td>\n",
       "      <td>0.000000</td>\n",
       "      <td>0.000000</td>\n",
       "      <td>1.000000</td>\n",
       "      <td>0.000000</td>\n",
       "      <td>I avoid eye contact or am told that I have unu...</td>\n",
       "      <td>com</td>\n",
       "      <td>no</td>\n",
       "      <td>&lt;NA&gt;</td>\n",
       "      <td>1</td>\n",
       "      <td>0.050000</td>\n",
       "      <td>False</td>\n",
       "    </tr>\n",
       "  </tbody>\n",
       "</table>\n",
       "<p>65 rows × 14 columns</p>\n",
       "</div>"
      ],
      "text/plain": [
       "   SRS_item   T1 mean   T2 mean  diff_mean         T         p         d  \\\n",
       "0    SRS_21  1.352227  1.056680  -0.295547  4.576328  0.000008 -0.291185   \n",
       "1    SRS_26  1.064777  0.947368  -0.117409  2.503927  0.012931 -0.159321   \n",
       "2     SRS_1  1.303644  1.510121   0.206478 -2.494007  0.013289  0.158690   \n",
       "3    SRS_55  0.307692  0.190283  -0.117409  2.449525  0.015003 -0.155860   \n",
       "4    SRS_12  1.259109  1.153846  -0.105263  2.138185  0.033487 -0.136049   \n",
       "..      ...       ...       ...        ...       ...       ...       ...   \n",
       "60   SRS_39  0.457490  0.453441  -0.004049  0.075441  0.939925 -0.004800   \n",
       "61   SRS_43  1.813765  1.817814   0.004049 -0.072980  0.941881  0.004644   \n",
       "62   SRS_57  1.238866  1.234818  -0.004049  0.070045  0.944215 -0.004457   \n",
       "63   SRS_29  0.724696  0.724696   0.000000  0.000000  1.000000  0.000000   \n",
       "64   SRS_16  0.663968  0.663968   0.000000  0.000000  1.000000  0.000000   \n",
       "\n",
       "                                        question_text subscale is_rev  \\\n",
       "0   I am able to imitate others\\ actions and expre...      com    yes   \n",
       "1        I offer comfort to others when they are sad.      com    yes   \n",
       "2   I am much more uncomfortable in social situati...      mot     no   \n",
       "3   I get too close to others or invade their pers...      com     no   \n",
       "4     I am able to communicate my feelings to others.      com    yes   \n",
       "..                                                ...      ...    ...   \n",
       "60  People think I am interested in too few topics...      rrb     no   \n",
       "61  I enjoy small talk (casual conversation with o...      mot    yes   \n",
       "62                          I tend to isolate myself.      com     no   \n",
       "63           I am regarded by others as odd or weird.      rrb     no   \n",
       "64  I avoid eye contact or am told that I have unu...      com     no   \n",
       "\n",
       "    Factor_simplified  Factor_OLpaper      pFDR isSigFDR  \n",
       "0                   3               3  0.000769     True  \n",
       "1                   3               3  0.001538    False  \n",
       "2                   2               2  0.002308    False  \n",
       "3                <NA>               1  0.003077    False  \n",
       "4                <NA>               4  0.003846    False  \n",
       "..                ...             ...       ...      ...  \n",
       "60                  1               1  0.046923    False  \n",
       "61               <NA>               2  0.047692    False  \n",
       "62                  2               2  0.048462    False  \n",
       "63               <NA>               7  0.049231    False  \n",
       "64               <NA>               1  0.050000    False  \n",
       "\n",
       "[65 rows x 14 columns]"
      ]
     },
     "execution_count": 64,
     "metadata": {},
     "output_type": "execute_result"
    }
   ],
   "source": [
    "df_item_trt_cutoff = pd.merge(df_item_trt_cutoff, SRS_item_description, on='SRS_item', how='left')\n",
    "df_item_trt_cutoff = df_item_trt_cutoff.drop(columns=['index'])\n",
    "df_item_trt_cutoff_pord = df_item_trt_cutoff.sort_values(by='p', ascending=True).reset_index(drop=True)\n",
    "for n in range(1,66):\n",
    "  df_item_trt_cutoff_pord.loc[n-1,'pFDR'] = 0.05 * n / 65\n",
    "  df_item_trt_cutoff_pord.loc[n-1,'isSigFDR'] = df_item_trt_cutoff_pord.loc[n-1,'p'] <= df_item_trt_cutoff_pord.loc[n-1,'pFDR']\n",
    "df_item_trt_cutoff_pord"
   ]
  },
  {
   "cell_type": "code",
   "execution_count": 65,
   "metadata": {
    "id": "b_RFUEStLWdr"
   },
   "outputs": [],
   "source": [
    "#save data\n",
    "df_item_trt_cutoff_pord.to_csv(root + '/results/item_T1_T2_diff_data.csv')"
   ]
  },
  {
   "cell_type": "code",
   "execution_count": 66,
   "metadata": {
    "colab": {
     "base_uri": "https://localhost:8080/",
     "height": 426
    },
    "id": "3lwR0NNinkzA",
    "outputId": "847e3958-5113-42bc-a5ff-51ce2d756f2a"
   },
   "outputs": [
    {
     "data": {
      "image/png": "[encoded data removed]",
      "text/plain": [
       "<Figure size 1500x400 with 1 Axes>"
      ]
     },
     "metadata": {},
     "output_type": "display_data"
    }
   ],
   "source": [
    "plt.figure(figsize=(15, 4))\n",
    "my_colors = sns.color_palette([\"darkgrey\", \"purple\"])\n",
    "sns.barplot(x='SRS_item', y='d', hue='isSigFDR', palette = my_colors, data = df_item_trt_cutoff_pord)\n",
    "plt.axhline(y=0, color='grey', linewidth=1)\n",
    "plt.ylabel('Cohens d for T2 vs T1 diff.')\n",
    "plt.xticks(rotation=90)\n",
    "plt.show()"
   ]
  },
  {
   "cell_type": "markdown",
   "metadata": {
    "id": "JSNoZe45_Jrq"
   },
   "source": [
    "## Item-by-item ICC correlates with item score differences between online and in-lab"
   ]
  },
  {
   "cell_type": "code",
   "execution_count": 79,
   "metadata": {
    "id": "9E1g0hJ8_L98"
   },
   "outputs": [],
   "source": [
    "#data from variability analyses summarizing item-by-item differences between in-lab and online\n",
    "df_item_diff['diff_online_inlab'] = df_item_diff['Online mean'] - df_item_diff['In lab mean']\n",
    "df_item_diff['abs_diff'] = np.abs(df_item_diff['diff_online_inlab'])\n",
    "df_item_diff.sort_values(by='SRS_item', ascending=True, inplace=True)"
   ]
  },
  {
   "cell_type": "code",
   "execution_count": 80,
   "metadata": {
    "colab": {
     "base_uri": "https://localhost:8080/",
     "height": 424
    },
    "id": "6wwZvEozPh61",
    "outputId": "58e51119-6355-415e-b0dd-8dbc26f57c7d"
   },
   "outputs": [
    {
     "data": {
      "text/html": [
       "<div>\n",
       "<style scoped>\n",
       "    .dataframe tbody tr th:only-of-type {\n",
       "        vertical-align: middle;\n",
       "    }\n",
       "\n",
       "    .dataframe tbody tr th {\n",
       "        vertical-align: top;\n",
       "    }\n",
       "\n",
       "    .dataframe thead th {\n",
       "        text-align: right;\n",
       "    }\n",
       "</style>\n",
       "<table border=\"1\" class=\"dataframe\">\n",
       "  <thead>\n",
       "    <tr style=\"text-align: right;\">\n",
       "      <th></th>\n",
       "      <th>SRS_item</th>\n",
       "      <th>In lab mean</th>\n",
       "      <th>Online mean</th>\n",
       "      <th>T</th>\n",
       "      <th>df</th>\n",
       "      <th>p</th>\n",
       "      <th>Cohens_d</th>\n",
       "      <th>Cohens_d_rev</th>\n",
       "      <th>question_text</th>\n",
       "      <th>subscale</th>\n",
       "      <th>is_rev</th>\n",
       "      <th>Factor_simplified</th>\n",
       "      <th>Factor_OLpaper</th>\n",
       "      <th>pFDR</th>\n",
       "      <th>isSigFDR</th>\n",
       "      <th>diff_online_inlab</th>\n",
       "      <th>abs_diff</th>\n",
       "      <th>ICC_all</th>\n",
       "    </tr>\n",
       "  </thead>\n",
       "  <tbody>\n",
       "    <tr>\n",
       "      <th>0</th>\n",
       "      <td>SRS_1</td>\n",
       "      <td>1.578045</td>\n",
       "      <td>1.040486</td>\n",
       "      <td>11.176919</td>\n",
       "      <td>771.385026</td>\n",
       "      <td>5.505404e-27</td>\n",
       "      <td>0.518111</td>\n",
       "      <td>0.518111</td>\n",
       "      <td>I am much more uncomfortable in social situati...</td>\n",
       "      <td>mot</td>\n",
       "      <td>no</td>\n",
       "      <td>2</td>\n",
       "      <td>2</td>\n",
       "      <td>0.003846</td>\n",
       "      <td>True</td>\n",
       "      <td>-0.537559</td>\n",
       "      <td>0.537559</td>\n",
       "      <td>0.257496</td>\n",
       "    </tr>\n",
       "    <tr>\n",
       "      <th>1</th>\n",
       "      <td>SRS_10</td>\n",
       "      <td>0.798885</td>\n",
       "      <td>0.536437</td>\n",
       "      <td>6.640253</td>\n",
       "      <td>776.894147</td>\n",
       "      <td>5.881113e-11</td>\n",
       "      <td>0.305987</td>\n",
       "      <td>0.305987</td>\n",
       "      <td>I take things too literally, and because of th...</td>\n",
       "      <td>cog</td>\n",
       "      <td>no</td>\n",
       "      <td>1</td>\n",
       "      <td>1</td>\n",
       "      <td>0.030000</td>\n",
       "      <td>True</td>\n",
       "      <td>-0.262448</td>\n",
       "      <td>0.262448</td>\n",
       "      <td>0.363962</td>\n",
       "    </tr>\n",
       "    <tr>\n",
       "      <th>2</th>\n",
       "      <td>SRS_11</td>\n",
       "      <td>1.422384</td>\n",
       "      <td>1.714575</td>\n",
       "      <td>-6.276789</td>\n",
       "      <td>751.735697</td>\n",
       "      <td>5.837699e-10</td>\n",
       "      <td>-0.297522</td>\n",
       "      <td>0.297522</td>\n",
       "      <td>I have good self-confidence.</td>\n",
       "      <td>mot</td>\n",
       "      <td>yes</td>\n",
       "      <td>4</td>\n",
       "      <td>4</td>\n",
       "      <td>0.035385</td>\n",
       "      <td>True</td>\n",
       "      <td>0.292191</td>\n",
       "      <td>0.292191</td>\n",
       "      <td>0.670664</td>\n",
       "    </tr>\n",
       "    <tr>\n",
       "      <th>3</th>\n",
       "      <td>SRS_12</td>\n",
       "      <td>1.659091</td>\n",
       "      <td>1.931174</td>\n",
       "      <td>-6.505063</td>\n",
       "      <td>732.554053</td>\n",
       "      <td>1.438364e-10</td>\n",
       "      <td>-0.315696</td>\n",
       "      <td>0.315696</td>\n",
       "      <td>I am able to communicate my feelings to others.</td>\n",
       "      <td>com</td>\n",
       "      <td>yes</td>\n",
       "      <td>&lt;NA&gt;</td>\n",
       "      <td>4</td>\n",
       "      <td>0.031538</td>\n",
       "      <td>True</td>\n",
       "      <td>0.272083</td>\n",
       "      <td>0.272083</td>\n",
       "      <td>0.628099</td>\n",
       "    </tr>\n",
       "    <tr>\n",
       "      <th>4</th>\n",
       "      <td>SRS_13</td>\n",
       "      <td>0.907804</td>\n",
       "      <td>0.578947</td>\n",
       "      <td>7.881908</td>\n",
       "      <td>789.243833</td>\n",
       "      <td>1.069970e-14</td>\n",
       "      <td>0.358553</td>\n",
       "      <td>0.358553</td>\n",
       "      <td>I am awkward in turn-taking interactions with ...</td>\n",
       "      <td>com</td>\n",
       "      <td>no</td>\n",
       "      <td>5</td>\n",
       "      <td>5</td>\n",
       "      <td>0.019231</td>\n",
       "      <td>True</td>\n",
       "      <td>-0.328857</td>\n",
       "      <td>0.328857</td>\n",
       "      <td>0.475204</td>\n",
       "    </tr>\n",
       "  </tbody>\n",
       "</table>\n",
       "</div>"
      ],
      "text/plain": [
       "  SRS_item  In lab mean  Online mean          T          df             p  \\\n",
       "0    SRS_1     1.578045     1.040486  11.176919  771.385026  5.505404e-27   \n",
       "1   SRS_10     0.798885     0.536437   6.640253  776.894147  5.881113e-11   \n",
       "2   SRS_11     1.422384     1.714575  -6.276789  751.735697  5.837699e-10   \n",
       "3   SRS_12     1.659091     1.931174  -6.505063  732.554053  1.438364e-10   \n",
       "4   SRS_13     0.907804     0.578947   7.881908  789.243833  1.069970e-14   \n",
       "\n",
       "   Cohens_d  Cohens_d_rev                                      question_text  \\\n",
       "0  0.518111      0.518111  I am much more uncomfortable in social situati...   \n",
       "1  0.305987      0.305987  I take things too literally, and because of th...   \n",
       "2 -0.297522      0.297522                       I have good self-confidence.   \n",
       "3 -0.315696      0.315696    I am able to communicate my feelings to others.   \n",
       "4  0.358553      0.358553  I am awkward in turn-taking interactions with ...   \n",
       "\n",
       "  subscale is_rev  Factor_simplified  Factor_OLpaper      pFDR isSigFDR  \\\n",
       "0      mot     no                  2               2  0.003846     True   \n",
       "1      cog     no                  1               1  0.030000     True   \n",
       "2      mot    yes                  4               4  0.035385     True   \n",
       "3      com    yes               <NA>               4  0.031538     True   \n",
       "4      com     no                  5               5  0.019231     True   \n",
       "\n",
       "   diff_online_inlab  abs_diff   ICC_all  \n",
       "0          -0.537559  0.537559  0.257496  \n",
       "1          -0.262448  0.262448  0.363962  \n",
       "2           0.292191  0.292191  0.670664  \n",
       "3           0.272083  0.272083  0.628099  \n",
       "4          -0.328857  0.328857  0.475204  "
      ]
     },
     "execution_count": 80,
     "metadata": {},
     "output_type": "execute_result"
    }
   ],
   "source": [
    "#load item-wise ICC data\n",
    "ICC_all = ICC_all[~ICC_all['variable'].isin(['SRS','SRS_AWR','SRS_COG','SRS_COM','SRS_MOT','SRS_RRB'])]\n",
    "ICC_all.rename(columns={'variable': 'SRS_item', 'ICC':'ICC_all'}, inplace=True)\n",
    "ICC_all = ICC_all[['SRS_item', 'ICC_all']]\n",
    "# combine the data\n",
    "df_item_diff = df_item_diff.merge(ICC_all, on='SRS_item', how='left')\n",
    "df_item_diff.head()"
   ]
  },
  {
   "cell_type": "markdown",
   "metadata": {
    "id": "MKPDAWhISs7n"
   },
   "source": [
    "Check correlations and make plots"
   ]
  },
  {
   "cell_type": "code",
   "execution_count": 81,
   "metadata": {
    "colab": {
     "base_uri": "https://localhost:8080/",
     "height": 350
    },
    "id": "U4JRbxAnXcmV",
    "outputId": "e4a2bf53-7e54-432e-9160-28b676a9f9f5"
   },
   "outputs": [
    {
     "data": {
      "text/plain": [
       "Text(0.5, 1.0, 'R = 0.36, P = 0.003')"
      ]
     },
     "execution_count": 81,
     "metadata": {},
     "output_type": "execute_result"
    },
    {
     "data": {
      "image/png": "[encoded data removed]",
      "text/plain": [
       "<Figure size 300x300 with 1 Axes>"
      ]
     },
     "metadata": {},
     "output_type": "display_data"
    }
   ],
   "source": [
    "#correlation between ICC_all and abs_diff_online_inlab\n",
    "df_item_diff['isFactor2'] = df_item_diff['Factor_OLpaper'].apply(lambda x: True if x == 2 else False)\n",
    "fig, ax = plt.subplots(figsize=(3,3))\n",
    "sns.scatterplot(data=df_item_diff, x='ICC_all',  y='abs_diff', hue = 'subscale', style='isFactor2', alpha=0.8)\n",
    "sns.regplot(data=df_item_diff, x='ICC_all', y='abs_diff', scatter=False, color='black')\n",
    "sns.move_legend(ax, \"upper left\", bbox_to_anchor=(1, 1))\n",
    "ax.set_xlabel('Item-wise ICC (all participants)', fontsize = 10)\n",
    "ax.set_ylabel('Item-wise absolute score diff.', fontsize = 10)\n",
    "r_value, p_value = pearsonr(df_item_diff['ICC_all'], df_item_diff['abs_diff'])\n",
    "ax.set_title(f'R = {r_value:.2f}, P = {p_value:.3f}')"
   ]
  },
  {
   "cell_type": "markdown",
   "metadata": {
    "id": "ALzswyXW-dqE"
   },
   "source": [
    "## Individual differences contributing to the SRS stability"
   ]
  },
  {
   "cell_type": "code",
   "execution_count": 82,
   "metadata": {
    "id": "lHsq3Stw-NBl"
   },
   "outputs": [],
   "source": [
    "t_rt_cutoff['SRS_diff_abs'] = np.abs(t_rt_cutoff['SRS_T2'] - t_rt_cutoff['SRS_T1'])\n",
    "t_rt_cutoff['date_ordinal_T1_z'] = zscore(t_rt_cutoff['date_ordinal_T1'].astype(float))\n",
    "t_rt_cutoff['date_ordinal_T2_z'] = zscore(t_rt_cutoff['date_ordinal_T2'].astype(float))\n",
    "t_rt_cutoff['T2_T1_diff'] = t_rt_cutoff['date_ordinal_T2'] - t_rt_cutoff['date_ordinal_T1']\n",
    "t_rt_cutoff['T2_T1_diff_z'] = zscore(t_rt_cutoff['T2_T1_diff'].astype(float))\n",
    "t_rt_cutoff['BDI_diff_abs'] = np.abs(t_rt_cutoff['BDI_T2'] - t_rt_cutoff['BDI_T1'])\n",
    "t_rt_cutoff['LSAS_diff_abs'] = np.abs(t_rt_cutoff['LSAS_T2'] - t_rt_cutoff['LSAS_T1'])\n",
    "t_rt_cutoff['STAI_trait_diff_abs'] = np.abs(t_rt_cutoff['STAI_trait_T2'] - t_rt_cutoff['STAI_trait_T1'])\n",
    "\n",
    "df_glm_trt_cutoff = t_rt_cutoff[['SRS_diff_abs', 'format', 'Sex', 'age_T1', 'BDI_diff_abs', 'LSAS_diff_abs', 'STAI_trait_diff_abs',\n",
    "                       'SRS_T1', 'date_ordinal_T1_z','T2_T1_diff_z']].dropna()\n",
    "\n",
    "\n",
    "#glm\n",
    "model_trt_cutoff = smf.ols('SRS_diff_abs ~ format + Sex + scale(age_T1) + scale(BDI_diff_abs) + scale(LSAS_diff_abs) + scale(STAI_trait_diff_abs) + \\\n",
    "                    scale(SRS_T1) + date_ordinal_T1_z + T2_T1_diff_z', data=df_glm_trt_cutoff).fit()\n",
    "\n",
    "#make summary df before plotting\n",
    "coef = model_trt_cutoff.params[1:]\n",
    "conf_int = model_trt_cutoff.conf_int()[1:]\n",
    "glm_sta_abs_results = pd.DataFrame({\n",
    "    'coef': coef.to_list(),\n",
    "    'err': ((conf_int.loc[:,1] - conf_int.loc[:, 0]) / 2).to_list(),\n",
    "    'lower': conf_int.loc[:, 0].to_list(),\n",
    "    'upper': conf_int.loc[:, 1].to_list()\n",
    "}, index=['Online>In-lab', 'Sex(m>f)', 'Age T1','BDI |T2 - T1|','LSAS |T2 - T1|','STAI-T |T2 - T1|','SRS T1','Date T1','Time interval'])"
   ]
  },
  {
   "cell_type": "code",
   "execution_count": 83,
   "metadata": {
    "colab": {
     "base_uri": "https://localhost:8080/",
     "height": 332
    },
    "id": "_QJAQYRn-p3W",
    "outputId": "41127e80-b606-4b2a-8011-3f3e7f9cda19"
   },
   "outputs": [
    {
     "data": {
      "text/html": [
       "<div>\n",
       "<style scoped>\n",
       "    .dataframe tbody tr th:only-of-type {\n",
       "        vertical-align: middle;\n",
       "    }\n",
       "\n",
       "    .dataframe tbody tr th {\n",
       "        vertical-align: top;\n",
       "    }\n",
       "\n",
       "    .dataframe thead th {\n",
       "        text-align: right;\n",
       "    }\n",
       "</style>\n",
       "<table border=\"1\" class=\"dataframe\">\n",
       "  <thead>\n",
       "    <tr style=\"text-align: right;\">\n",
       "      <th></th>\n",
       "      <th>coef</th>\n",
       "      <th>err</th>\n",
       "      <th>lower</th>\n",
       "      <th>upper</th>\n",
       "    </tr>\n",
       "  </thead>\n",
       "  <tbody>\n",
       "    <tr>\n",
       "      <th>Online&gt;In-lab</th>\n",
       "      <td>15.771515</td>\n",
       "      <td>29.685122</td>\n",
       "      <td>-13.913607</td>\n",
       "      <td>45.456638</td>\n",
       "    </tr>\n",
       "    <tr>\n",
       "      <th>Sex(m&gt;f)</th>\n",
       "      <td>1.941564</td>\n",
       "      <td>3.650717</td>\n",
       "      <td>-1.709153</td>\n",
       "      <td>5.592282</td>\n",
       "    </tr>\n",
       "    <tr>\n",
       "      <th>Age T1</th>\n",
       "      <td>-0.818533</td>\n",
       "      <td>1.918012</td>\n",
       "      <td>-2.736545</td>\n",
       "      <td>1.099479</td>\n",
       "    </tr>\n",
       "    <tr>\n",
       "      <th>BDI |T2 - T1|</th>\n",
       "      <td>-0.206834</td>\n",
       "      <td>2.262565</td>\n",
       "      <td>-2.469399</td>\n",
       "      <td>2.055731</td>\n",
       "    </tr>\n",
       "    <tr>\n",
       "      <th>LSAS |T2 - T1|</th>\n",
       "      <td>3.852165</td>\n",
       "      <td>1.838536</td>\n",
       "      <td>2.013629</td>\n",
       "      <td>5.690701</td>\n",
       "    </tr>\n",
       "    <tr>\n",
       "      <th>STAI-T |T2 - T1|</th>\n",
       "      <td>5.380338</td>\n",
       "      <td>2.145732</td>\n",
       "      <td>3.234606</td>\n",
       "      <td>7.526071</td>\n",
       "    </tr>\n",
       "    <tr>\n",
       "      <th>SRS T1</th>\n",
       "      <td>1.031588</td>\n",
       "      <td>1.947677</td>\n",
       "      <td>-0.916090</td>\n",
       "      <td>2.979265</td>\n",
       "    </tr>\n",
       "    <tr>\n",
       "      <th>Date T1</th>\n",
       "      <td>-9.975755</td>\n",
       "      <td>18.687542</td>\n",
       "      <td>-28.663297</td>\n",
       "      <td>8.711788</td>\n",
       "    </tr>\n",
       "    <tr>\n",
       "      <th>Time interval</th>\n",
       "      <td>-5.132243</td>\n",
       "      <td>13.841112</td>\n",
       "      <td>-18.973355</td>\n",
       "      <td>8.708869</td>\n",
       "    </tr>\n",
       "  </tbody>\n",
       "</table>\n",
       "</div>"
      ],
      "text/plain": [
       "                       coef        err      lower      upper\n",
       "Online>In-lab     15.771515  29.685122 -13.913607  45.456638\n",
       "Sex(m>f)           1.941564   3.650717  -1.709153   5.592282\n",
       "Age T1            -0.818533   1.918012  -2.736545   1.099479\n",
       "BDI |T2 - T1|     -0.206834   2.262565  -2.469399   2.055731\n",
       "LSAS |T2 - T1|     3.852165   1.838536   2.013629   5.690701\n",
       "STAI-T |T2 - T1|   5.380338   2.145732   3.234606   7.526071\n",
       "SRS T1             1.031588   1.947677  -0.916090   2.979265\n",
       "Date T1           -9.975755  18.687542 -28.663297   8.711788\n",
       "Time interval     -5.132243  13.841112 -18.973355   8.708869"
      ]
     },
     "execution_count": 83,
     "metadata": {},
     "output_type": "execute_result"
    }
   ],
   "source": [
    "glm_sta_abs_results"
   ]
  }
 ],
 "metadata": {
  "colab": {
   "collapsed_sections": [
    "ALzswyXW-dqE"
   ],
   "include_colab_link": true,
   "provenance": [],
   "toc_visible": true
  },
  "kernelspec": {
   "display_name": "Python (SRS)",
   "language": "python",
   "name": "srs_state_trait"
  },
  "language_info": {
   "codemirror_mode": {
    "name": "ipython",
    "version": 3
   },
   "file_extension": ".py",
   "mimetype": "text/x-python",
   "name": "python",
   "nbconvert_exporter": "python",
   "pygments_lexer": "ipython3",
   "version": "3.10.16"
  }
 },
 "nbformat": 4,
 "nbformat_minor": 4
}
